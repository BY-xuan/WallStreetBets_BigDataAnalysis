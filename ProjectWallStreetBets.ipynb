{
  "nbformat": 4,
  "nbformat_minor": 0,
  "metadata": {
    "colab": {
      "name": "ProjectWallStreetBets.ipynb",
      "provenance": [],
      "collapsed_sections": [],
      "include_colab_link": true
    },
    "kernelspec": {
      "name": "python3",
      "display_name": "Python 3"
    }
  },
  "cells": [
    {
      "cell_type": "markdown",
      "metadata": {
        "id": "view-in-github",
        "colab_type": "text"
      },
      "source": [
        "<a href=\"https://colab.research.google.com/github/Fryingpannn/WallStreetBets_BigDataAnalysis/blob/main/ProjectWallStreetBets.ipynb\" target=\"_parent\"><img src=\"https://colab.research.google.com/assets/colab-badge.svg\" alt=\"Open In Colab\"/></a>"
      ]
    },
    {
      "cell_type": "code",
      "metadata": {
        "id": "tSmCrU8CYLkf",
        "colab": {
          "base_uri": "https://localhost:8080/"
        },
        "outputId": "ddfd3e23-85c6-44c0-b348-1bc17171d8bd"
      },
      "source": [
        "!pip install pyspark\n",
        "!pip install praw\n",
        "!pip3 install iexfinance"
      ],
      "execution_count": 1,
      "outputs": [
        {
          "output_type": "stream",
          "text": [
            "Collecting pyspark\n",
            "\u001b[?25l  Downloading https://files.pythonhosted.org/packages/45/b0/9d6860891ab14a39d4bddf80ba26ce51c2f9dc4805e5c6978ac0472c120a/pyspark-3.1.1.tar.gz (212.3MB)\n",
            "\u001b[K     |████████████████████████████████| 212.3MB 61kB/s \n",
            "\u001b[?25hCollecting py4j==0.10.9\n",
            "\u001b[?25l  Downloading https://files.pythonhosted.org/packages/9e/b6/6a4fb90cd235dc8e265a6a2067f2a2c99f0d91787f06aca4bcf7c23f3f80/py4j-0.10.9-py2.py3-none-any.whl (198kB)\n",
            "\u001b[K     |████████████████████████████████| 204kB 19.3MB/s \n",
            "\u001b[?25hBuilding wheels for collected packages: pyspark\n",
            "  Building wheel for pyspark (setup.py) ... \u001b[?25l\u001b[?25hdone\n",
            "  Created wheel for pyspark: filename=pyspark-3.1.1-py2.py3-none-any.whl size=212767604 sha256=b24e4831a56cedb1ebbe7536a61ceb7a5068071b6daed26bdd4bc581593d9690\n",
            "  Stored in directory: /root/.cache/pip/wheels/0b/90/c0/01de724414ef122bd05f056541fb6a0ecf47c7ca655f8b3c0f\n",
            "Successfully built pyspark\n",
            "Installing collected packages: py4j, pyspark\n",
            "Successfully installed py4j-0.10.9 pyspark-3.1.1\n",
            "Collecting praw\n",
            "\u001b[?25l  Downloading https://files.pythonhosted.org/packages/48/a8/a2e2d0750ee17c7e3d81e4695a0338ad0b3f231853b8c3fa339ff2d25c7c/praw-7.2.0-py3-none-any.whl (159kB)\n",
            "\u001b[K     |████████████████████████████████| 163kB 4.4MB/s \n",
            "\u001b[?25hCollecting prawcore<3,>=2\n",
            "  Downloading https://files.pythonhosted.org/packages/7d/df/4a9106bea0d26689c4b309da20c926a01440ddaf60c09a5ae22684ebd35f/prawcore-2.0.0-py3-none-any.whl\n",
            "Collecting update-checker>=0.18\n",
            "  Downloading https://files.pythonhosted.org/packages/0c/ba/8dd7fa5f0b1c6a8ac62f8f57f7e794160c1f86f31c6d0fb00f582372a3e4/update_checker-0.18.0-py3-none-any.whl\n",
            "Collecting websocket-client>=0.54.0\n",
            "\u001b[?25l  Downloading https://files.pythonhosted.org/packages/08/33/80e0d4f60e84a1ddd9a03f340be1065a2a363c47ce65c4bd3bae65ce9631/websocket_client-0.58.0-py2.py3-none-any.whl (61kB)\n",
            "\u001b[K     |████████████████████████████████| 61kB 3.8MB/s \n",
            "\u001b[?25hRequirement already satisfied: requests<3.0,>=2.6.0 in /usr/local/lib/python3.7/dist-packages (from prawcore<3,>=2->praw) (2.23.0)\n",
            "Requirement already satisfied: six in /usr/local/lib/python3.7/dist-packages (from websocket-client>=0.54.0->praw) (1.15.0)\n",
            "Requirement already satisfied: chardet<4,>=3.0.2 in /usr/local/lib/python3.7/dist-packages (from requests<3.0,>=2.6.0->prawcore<3,>=2->praw) (3.0.4)\n",
            "Requirement already satisfied: certifi>=2017.4.17 in /usr/local/lib/python3.7/dist-packages (from requests<3.0,>=2.6.0->prawcore<3,>=2->praw) (2020.12.5)\n",
            "Requirement already satisfied: idna<3,>=2.5 in /usr/local/lib/python3.7/dist-packages (from requests<3.0,>=2.6.0->prawcore<3,>=2->praw) (2.10)\n",
            "Requirement already satisfied: urllib3!=1.25.0,!=1.25.1,<1.26,>=1.21.1 in /usr/local/lib/python3.7/dist-packages (from requests<3.0,>=2.6.0->prawcore<3,>=2->praw) (1.24.3)\n",
            "Installing collected packages: prawcore, update-checker, websocket-client, praw\n",
            "Successfully installed praw-7.2.0 prawcore-2.0.0 update-checker-0.18.0 websocket-client-0.58.0\n"
          ],
          "name": "stdout"
        }
      ]
    },
    {
      "cell_type": "code",
      "metadata": {
        "id": "KV_t_JDlZHAg"
      },
      "source": [
        "from pyspark.rdd import RDD\n",
        "from pyspark.sql import Row\n",
        "from pyspark.sql import DataFrame\n",
        "from pyspark.sql import SparkSession\n",
        "from pyspark.sql.functions import lit\n",
        "from pyspark.sql.functions import desc\n",
        "from pyspark.ml.evaluation import RegressionEvaluator\n",
        "from pyspark.ml.recommendation import ALS\n",
        "from pyspark import SparkContext as sc\n",
        "from pyspark.sql import SparkSession\n",
        "from pyspark.sql import functions as F\n",
        "#from iexfinance.stocks import Stock\n",
        "#from iexfinance.stocks import get_historical_data\n",
        "import os\n",
        "# tools\n",
        "import math\n",
        "import json\n",
        "import requests\n",
        "import itertools\n",
        "import numpy as np\n",
        "import time\n",
        "from datetime import datetime, timedelta\n",
        "import string\n",
        "# Set IEX Finance API Token for Sandbox test mode\n",
        "os.environ['IEX_API_VERSION'] = 'iexcloud-sandbox'\n",
        "os.environ['IEX_TOKEN'] = 'Tsk_4060833567884b49870980c4a917aa92'\n",
        "\n",
        "def init_spark():\n",
        "    spark = SparkSession \\\n",
        "        .builder \\\n",
        "        .appName(\"Python Spark SQL basic example\") \\\n",
        "        .config(\"spark.some.config.option\", \"some-value\") \\\n",
        "        .getOrCreate()\n",
        "    return spark\n",
        "spark = init_spark()"
      ],
      "execution_count": 166,
      "outputs": []
    },
    {
      "cell_type": "code",
      "metadata": {
        "id": "-tEhyuIH2trR"
      },
      "source": [
        "# Print iterations progress\n",
        "def printProgressBar (iteration, total, prefix = '', suffix = '', decimals = 1, length = 100, fill = '█', printEnd = \"\\r\"):\n",
        "    \"\"\"\n",
        "    Call in a loop to create terminal progress bar\n",
        "    @params:\n",
        "        iteration   - Required  : current iteration (Int)\n",
        "        total       - Required  : total iterations (Int)\n",
        "        prefix      - Optional  : prefix string (Str)\n",
        "        suffix      - Optional  : suffix string (Str)\n",
        "        decimals    - Optional  : positive number of decimals in percent complete (Int)\n",
        "        length      - Optional  : character length of bar (Int)\n",
        "        fill        - Optional  : bar fill character (Str)\n",
        "        printEnd    - Optional  : end character (e.g. \"\\r\", \"\\r\\n\") (Str)\n",
        "    \"\"\"\n",
        "    percent = (\"{0:.\" + str(decimals) + \"f}\").format(100 * (iteration / float(total)))\n",
        "    filledLength = int(length * iteration // total)\n",
        "    bar = fill * filledLength + '-' * (length - filledLength)\n",
        "    print(f'\\r{prefix} |{bar}| {percent}% {suffix}', end = printEnd)\n",
        "    # Print New Line on Complete\n",
        "    if iteration == total: \n",
        "        print()"
      ],
      "execution_count": 167,
      "outputs": []
    },
    {
      "cell_type": "code",
      "metadata": {
        "id": "FTAG1HhPIZLn"
      },
      "source": [
        "\"\"\"\n",
        "Function to make an HTTP request to the Pushshift API.\n",
        "- max_retry: Nb of times the request is re-tried if failure occurs.\n",
        "- returns: Python object with the content of the request. (index 'data' property)\n",
        "\"\"\"\n",
        "def get_request(uri, max_retry = 5):\n",
        "  def get(uri):\n",
        "    response = requests.get(uri)\n",
        "    assert response.status_code == 200\n",
        "    return json.loads(response.content)\n",
        "  # Retry if request call failed\n",
        "  retry = 1\n",
        "  while retry < max_retry:\n",
        "    try:\n",
        "      response = get(uri)\n",
        "      return response\n",
        "    except:\n",
        "      #print(f\"[{retry}] Request failed, re-trying...\")\n",
        "      # wait 1 second before retry\n",
        "      time.sleep(1)\n",
        "      retry += 1"
      ],
      "execution_count": 168,
      "outputs": []
    },
    {
      "cell_type": "code",
      "metadata": {
        "colab": {
          "base_uri": "https://localhost:8080/"
        },
        "id": "zgUPYZ8kni0H",
        "outputId": "222a2714-c9f3-4662-ba80-767e767e63cd"
      },
      "source": [
        "# Testing get_request() with test uri. Should return a non-empty Python object.\n",
        "obj = get_request(\"https://httpbin.org/get\")\n",
        "print(obj['url'])\n",
        "# Returning posts from wallstreetbets. The posts are in the \"data\" property of the response.\n",
        "# Use this to check format: https://jsonformatter.curiousconcept.com/#\n",
        "# obj2 = get_request('https://api.pushshift.io/reddit/search/submission?subreddit=wallstreetbets')\n",
        "# print(obj2)"
      ],
      "execution_count": 4,
      "outputs": [
        {
          "output_type": "stream",
          "text": [
            "https://httpbin.org/get\n"
          ],
          "name": "stdout"
        }
      ]
    },
    {
      "cell_type": "code",
      "metadata": {
        "id": "FQkcQb6TnlR_"
      },
      "source": [
        "\"\"\"\n",
        "Gets the all the posts from a given subreddit in the specific time range.\n",
        "- subreddit: name of subreddit\n",
        "- begin: timestamp (in unix) of start date\n",
        "- end: timestamp (in unix) of end date\n",
        "- returns: list of all the posts in the time interval. the posts are objects with properties \"id\", \"title\" and \"creation_utc\".\n",
        "\"\"\"\n",
        "def get_posts(subreddit, begin, end):\n",
        "  # Max size of each Pushshift API request is 100 posts.\n",
        "  SIZE = 100\n",
        "  PUSHSHIFT_URI = r'https://api.pushshift.io/reddit/search/submission?subreddit={}&after={}&before={}&size={}'\n",
        "  nb_requests_made = 1\n",
        "  loading_string = \"LOADING %: [\"\n",
        "  print(\"LOADING %: [\", end=\" \")\n",
        "  # Get the ids and creation time of the posts only. Can use later to get the actual posts with PRAW with these ids.\n",
        "  # Alternatively, we could also directly use get_request() instead of this function, and get all the posts with their content.\n",
        "  def filter_ids_time(uri, begin, end):\n",
        "    full_posts = get_request(uri.format(subreddit, begin, end, SIZE))\n",
        "    if full_posts is None:\n",
        "      raise ValueError(\"Response is empty or none.\")\n",
        "\n",
        "    # only keep the id, and creation time.\n",
        "    \"\"\"\n",
        "    filtered = map(lambda post: {\n",
        "        'id': post['id'],\n",
        "        'created_utc': post['created_utc'],\n",
        "        'flair': post['link_flair_text'],\n",
        "        'flaircss': post['link_flair_css_class'],\n",
        "        'text': post['selftext']\n",
        "    }, full_posts['data'])\n",
        "    \"\"\"\n",
        "    posts = []\n",
        "    for post in full_posts['data']:\n",
        "      try:\n",
        "        if post['link_flair_text'] and post['link_flair_css_class'] and post['selftext'] and post['selftext'] != \"[removed]\" and post['selftext'] != \"[deleted]\":\n",
        "          posts.append({\\\n",
        "            'id': post['id'],\\\n",
        "            'title': post['title'].translate(str.maketrans('', '', string.punctuation)),\\\n",
        "            'score': post['score'],\\\n",
        "            'upvote_ratio': post['upvote_ratio'],\\\n",
        "            'author': post['author'],\\\n",
        "            'created_utc': post['created_utc'],\\\n",
        "            'flair': post['link_flair_text'],\\\n",
        "            'flaircss': post['link_flair_css_class'],\\\n",
        "            'num_comments': post['num_comments'],\\\n",
        "            'text': post['selftext'].translate(str.maketrans('', '', string.punctuation)),\\\n",
        "            'url': post['url']\\\n",
        "          })\n",
        "      except:\n",
        "        pass\n",
        "    # get timestamp of last post\n",
        "    last_timestamp = full_posts['data'][-1]['created_utc']\n",
        "    posts_amount = len(full_posts['data'])\n",
        "          \n",
        "    #return list(filtered)\n",
        "    return [posts, last_timestamp, posts_amount]\n",
        "\n",
        "  posts_etc = filter_ids_time(PUSHSHIFT_URI, begin, end)\n",
        "  posts = posts_etc[0]\n",
        "  last_timestamp = posts_etc[1]\n",
        "  posts_amount = posts_etc[2]\n",
        "  # If reached limit of 100 posts retrieved, make request again until 'end' time.\n",
        "  while posts_amount == SIZE:\n",
        "    # Timestamp of the last post we previously retrieved\n",
        "    #new_begin = posts[-1]['created_utc'] - 10\n",
        "    new_begin = last_timestamp - 10\n",
        "    more_posts_etc = filter_ids_time(PUSHSHIFT_URI, new_begin, end)\n",
        "    last_timestamp = more_posts_etc[1]\n",
        "    posts_amount = more_posts_etc[2]\n",
        "    posts.extend(more_posts_etc[0])\n",
        "    nb_requests_made += 1\n",
        "    printProgressBar((last_timestamp-begin)//10000 + 1, (end-begin)//10000)\n",
        "    \n",
        "  print(\"Number of requests made: \", nb_requests_made)\n",
        "  return posts"
      ],
      "execution_count": 195,
      "outputs": []
    },
    {
      "cell_type": "code",
      "metadata": {
        "colab": {
          "base_uri": "https://localhost:8080/"
        },
        "id": "nfcmDOgEv0qC",
        "outputId": "f764b734-7387-478f-b1a2-8aa3c48fa7dd"
      },
      "source": [
        "\"\"\"\n",
        "============================== USE THE OTHER FUNCTION BELOW ===========================\n",
        "\n",
        "Testing get_posts() function.\n",
        "- Timestamp converter: https://www.unixtimestamp.com/index.php?ref=theredish.com%2Fweb\n",
        "- Able to retrieve up till latest posts from 6 hours ago.\n",
        "- To print till \"now\": math.ceil(datetime.utcnow().timestamp())\n",
        "\"\"\"\n",
        "# Posts from March 13th\n",
        "#posts = get_posts('wallstreetbets', 1615687200, math.ceil(datetime.utcnow().timestamp()))\n",
        "# All posts from nb_days_from_today\n",
        "nb_days_from_today = 90\n",
        "end = math.ceil(datetime.utcnow().timestamp())\n",
        "begin = math.ceil((datetime.utcnow() - timedelta(days=nb_days_from_today)).timestamp())\n",
        "print(\"Timestamps: \", begin, end)\n",
        "posts = get_posts('wallstreetbets', 1615824107, 1615838507)\n",
        "unique_posts = np.unique([post['id'] for post in posts])\n",
        "# Use np.unique to get rid of duplicates and filter posts only by id (only need id for praw).\n",
        "print(\"Size: \", len(posts))\n",
        "print(\"Size of uniques: \", len(unique_posts))\n",
        "print(\"Example posts: \", posts[:5])"
      ],
      "execution_count": 162,
      "outputs": [
        {
          "output_type": "stream",
          "text": [
            "Timestamps:  1609210077 1616986077\n",
            "[1] Request failed, re-trying...\n",
            "[1] Request failed, re-trying...\n",
            "[1] Request failed, re-trying...\n",
            "Number of requests made:  13\n",
            "Size:  363\n",
            "Size of uniques:  356\n",
            "Example posts:  [{'id': 'm5nyck', 'title': 'AMC is rising', 'score': 1, 'upvote_ratio': 1.0, 'author': 'Sufficient-Ad4354', 'created_utc': 1615824137, 'flair': 'Gain', 'flaircss': 'profit', 'num_comments': 2, 'text': 'AMC will hit 15 today at this rate', 'url': 'https://www.reddit.com/r/wallstreetbets/comments/m5nyck/amc_is_rising/'}, {'id': 'm5nyja', 'title': 'AMC to the moon', 'score': 2, 'upvote_ratio': 1.0, 'author': 'Ariasnyc', 'created_utc': 1615824150, 'flair': 'Gain', 'flaircss': 'profit', 'num_comments': 2, 'text': '🌚🌚🌚', 'url': 'https://www.reddit.com/r/wallstreetbets/comments/m5nyja/amc_to_the_moon/'}, {'id': 'm5nyq4', 'title': 'GMEs rise was predicted by Pink Floyd an extensive study', 'score': 1, 'upvote_ratio': 1.0, 'author': 'Ichthasen', 'created_utc': 1615824163, 'flair': 'Meme', 'flaircss': 'meme', 'num_comments': 0, 'text': 'It has come to my attention through complex study that Pink Floyd actually left signs of the rise of GME in one of their lesser known works The Dark Side of the Moon   \\n  \\nHeart Beat PatternhttpsiimgurcomjYsiuafpng  \\n  \\nMany of you will immediately see it here because you are all abunch of chart watching apes  When compared to recent GME charts that heartbeat clearly is a sign that Pink Floyd liked the stock so much they were foreshadowing its existance\\n    \\nFull Proof EvidencehttpsiimgurcomsS1s3Qapng \\n\\nNow that we know there is undeniable proof of this lets look at some of the song names  \\n\\n1 Speak to Me  Breathe   Primarily a safety warning they knew dumb apes would forget to consume oxygen during the chart watching  \\n\\n2  On the Bull Run   Too easy\\n\\n3 Time  This shit will take time  Dont put yourself in a position where you have to Run and Run to keep up with the Stock because you paper handed\\n\\n4 Great Gig in the Sky  Party after this is all over for apes lots of moaning\\n\\n5  Money    I cant figure out the subtext for this one its very Cryptic\\n\\n6  Us and Them  WSB and Hedgies  Theres a verse about lines on a map moving side to side so it seems safe to assume that means the ticker  Further analysis needed\\n\\n7  Any Color You Like  An attempt to stop the divide that would occur from GME holders when arguing about best Crayon Color\\n\\n8  Brain Damage  A biographical piece about the type of people that would be needed for the ride\\n\\n9  Eclipse  What GME is doing to all the other Stocks  We like it\\n\\nI hope you will all see this as the absolute proof it is that GME is awesome and we are justified in liking the stock  If we wait long enough we will all be Comfortably Numb so Shine on you Crazy Diamond Hands\\n\\nTLDR  With absolute certainty Pink Floyd predicted the GME news\\n\\nI am not a financial advisor if you take any of this as financial advice though I dont think much else needs to be said', 'url': 'https://www.reddit.com/r/wallstreetbets/comments/m5nyq4/gmes_rise_was_predicted_by_pink_floyd_an/'}, {'id': 'm5nyz5', 'title': 'AMC Remember why boys', 'score': 1, 'upvote_ratio': 1.0, 'author': 'EZYPZY100', 'created_utc': 1615824182, 'flair': 'Discussion', 'flaircss': 'question', 'num_comments': 0, 'text': ' \\n\\nRemember why you got into this thing boys\\n\\nDont sell out for chump change\\n\\nHOLD your ground\\n\\nWe are before the very beginning on this if we hold  \\n\\nOur choice chimp change or silver back   \\n\\nNot a financial advisor just another dumb Ape', 'url': 'https://www.reddit.com/r/wallstreetbets/comments/m5nyz5/amc_remember_why_boys/'}, {'id': 'm5nzcm', 'title': 'Beyond The Milky Way', 'score': 1, 'upvote_ratio': 1.0, 'author': 'Afraid-Ambassador-31', 'created_utc': 1615824207, 'flair': 'YOLO', 'flaircss': 'yolo', 'num_comments': 1, 'text': 'AMC looking Promising 😎 Looks like someone got their stimulus Lets go up fellow apes AMC all the way ☝️🚀🚀🚀🚀🚀', 'url': 'https://www.reddit.com/r/wallstreetbets/comments/m5nzcm/beyond_the_milky_way/'}]\n"
          ],
          "name": "stdout"
        }
      ]
    },
    {
      "cell_type": "code",
      "metadata": {
        "colab": {
          "base_uri": "https://localhost:8080/"
        },
        "id": "HPfvW-hwvTFh",
        "outputId": "0f495e18-8f23-4fb6-9f3e-01fdf5f5859f"
      },
      "source": [
        "\"\"\"\n",
        "Retrieve posts\n",
        "- nb_days_from_today: number of days from today you want to retrieve\n",
        "- return: lists of all posts in time interval\n",
        "\"\"\"\n",
        "\n",
        "def retrieve(nb_days_from_today):\n",
        "  end = math.ceil(datetime.utcnow().timestamp())\n",
        "  begin = math.ceil((datetime.utcnow() - timedelta(days=nb_days_from_today)).timestamp())\n",
        "  print(\"Timestamps: \", begin, end)\n",
        "  posts = get_posts('wallstreetbets', begin, end)\n",
        "\n",
        "  unique_posts = np.unique([post['id'] for post in posts])\n",
        "  print(\"Size: \", len(posts))\n",
        "  print(\"Size of uniques: \", len(unique_posts))\n",
        "  print(\"Example posts: \", posts[:5])\n",
        "  return posts\n",
        "\n",
        "posts = retrieve(1)"
      ],
      "execution_count": 196,
      "outputs": [
        {
          "output_type": "stream",
          "text": [
            "Timestamps:  1616900737 1616987137\n",
            " |████████████████████████████████████████████████████████████████████████████████████████████████████| 100.0% \n",
            " |████████████████████████████████████████████████████████████████████████████████████████████████████| 100.0% \n",
            "Number of requests made:  13\n",
            "Size:  161\n",
            "Size of uniques:  159\n",
            "Example posts:  [{'id': 'mete3k', 'title': 'CLOV', 'score': 1, 'upvote_ratio': 1.0, 'author': 'm4rcolio', 'created_utc': 1616901443, 'flair': 'Discussion', 'flaircss': 'question', 'num_comments': 0, 'text': 'Anyone here on CLOV Trying to decide if I should buy more since it’s at 7 Looks like Hindenburg and their partners are shorting it pretty bad until April when the claims expire Thoughts', 'url': 'https://www.reddit.com/r/wallstreetbets/comments/mete3k/clov/'}, {'id': 'methj8', 'title': 'Is 50K a short seller or algo', 'score': 1, 'upvote_ratio': 1.0, 'author': 'sDesiderio', 'created_utc': 1616901794, 'flair': 'Technical Analysis', 'flaircss': 'chart', 'num_comments': 9, 'text': 'ampx200B\\n\\nhttpspreviewredditofrthe44top61jpgwidth720ampformatpjpgampautowebpamps47de490b9fbf5afdec5393c376cad47e56da8208', 'url': 'https://www.reddit.com/r/wallstreetbets/comments/methj8/is_50k_a_short_seller_or_algo/'}, {'id': 'metnlc', 'title': 'Tesla Marketing Idea ELON I HOPE YOU SEE THIS', 'score': 1, 'upvote_ratio': 1.0, 'author': 'corona4all', 'created_utc': 1616902459, 'flair': 'Meme', 'flaircss': 'meme', 'num_comments': 0, 'text': 'I was thinking of ways to get this Daddy Elons TSLA Stock to MARS\\n\\nThought this maybe an amazing idea by monetizing on this Cargo Ship Evergreen drama and promoting the Cybertruck that has more angles than a isoceles triangle\\n\\nBon Apetit\\n\\nhttpsimgurcomWFFrcuAhttpsimgurcomWFFrcuA', 'url': 'https://www.reddit.com/r/wallstreetbets/comments/metnlc/tesla_marketing_idea_elon_i_hope_you_see_this/'}, {'id': 'metp1b', 'title': 'When I see US retailer investors talk about taxes', 'score': 1, 'upvote_ratio': 1.0, 'author': 'U-Copy', 'created_utc': 1616902616, 'flair': 'Meme', 'flaircss': 'meme', 'num_comments': 2, 'text': 'ampx200B\\n\\nhttpspreviewredditt6cyx1l0wop61jpgwidth500ampformatpjpgampautowebpampscede3f80770b6a3c0074752d6bff11d9051095eb', 'url': 'https://www.reddit.com/r/wallstreetbets/comments/metp1b/when_i_see_us_retailer_investors_talk_about_taxes/'}, {'id': 'metr3j', 'title': 'So imagine you are the world The Suez Canal is your asshole This ship the Ever Given is the 4th largest dildo man kind has ever created This dildo is now in your asshole and might be there for awhile', 'score': 1, 'upvote_ratio': 1.0, 'author': 'NaticusN', 'created_utc': 1616902854, 'flair': 'Discussion', 'flaircss': 'question', 'num_comments': 27, 'text': 'Let’s talk about tides for the apes who live in trees  This planet we live on has “tides” because it spins commonly called day and night Tides are caused by the moon The moon is one out of two really big things we see in the sky It’s also where rocket ships live \\n\\nEveryday the tide goes up and down twice to be exact but if you look day to day high tides get higher then peak then come back down again just like your bank account The peak happens on March 31 and again a week later  I worry that if it’s not out by then then we better get ready for that dildo to be the for a bit', 'url': 'https://www.reddit.com/r/wallstreetbets/comments/metr3j/so_imagine_you_are_the_world_the_suez_canal_is/'}]\n"
          ],
          "name": "stdout"
        }
      ]
    },
    {
      "cell_type": "code",
      "metadata": {
        "colab": {
          "base_uri": "https://localhost:8080/"
        },
        "id": "tvbLzAGHuHoT",
        "outputId": "52be2e11-13dd-4d98-b99b-7e7d163bce2a"
      },
      "source": [
        "\"\"\"\n",
        "OUTPUT TO CSVVVVVVV\n",
        "\"\"\"\n",
        "posts_rdd = spark.sparkContext.parallelize(posts)\n",
        "posts_rdd = posts_rdd.map(lambda post: Row(id=post['id'], title=post['title'], flair=str(post['flair']), score=post['score'], upvote_ratio=post['upvote_ratio'], author=str(post['author']), num_comments=post['num_comments'], text=post['text'], created=post['created_utc'], url=post['url']))\n",
        "posts_rdd = posts_rdd.distinct()\n",
        "posts_df = spark.createDataFrame(posts_rdd)\n",
        "print(posts_df.count())\n",
        "posts_df.show()\n",
        "\n",
        "posts_df.coalesce(1).write.csv('30daysredditposts.csv', header=True)"
      ],
      "execution_count": 161,
      "outputs": [
        {
          "output_type": "stream",
          "text": [
            "15397\n",
            "+------+--------------------+----------+-----+------------+-------------------+------------+--------------------+----------+--------------------+\n",
            "|    id|               title|     flair|score|upvote_ratio|             author|num_comments|                text|   created|                 url|\n",
            "+------+--------------------+----------+-----+------------+-------------------+------------+--------------------+----------+--------------------+\n",
            "|ltep3k|I shopped at Game...|Discussion| 7057|        0.96|             nrouns|         821|I went into a Gam...|1614394911|https://www.reddi...|\n",
            "|ltfinj|What would you do...|Discussion|   35|        0.79|         fzctungkun|         148|Saw news flash th...|1614397662|https://www.reddi...|\n",
            "|ltfz6j|For those of you ...|      Meme|  182|        0.96|         Gyrene4341|          23|httpspreviewreddi...|1614399235|https://www.reddi...|\n",
            "|ltg3fi|GME Creyon graph ...|     Chart|   31|        0.78|     StephenElliott|          39|Im just a retard ...|1614399640|https://www.reddi...|\n",
            "|lthwbb|List of 23 GME Ap...|Discussion|   54|        0.58|             EthLaw|         149|\n",
            "Terms of the bet...|1614406465|https://www.reddi...|\n",
            "|lti92o|Selling PLTR LEAP...|Discussion|   18|        0.63|      biggerJackson|          84| \n",
            "\n",
            "The Premiums o...|1614407942|https://www.reddi...|\n",
            "|ltky6h|SPCE to the godda...|        DD|   49|        0.72|        hustwaiting|          41|The past week has...|1614420023|https://www.reddi...|\n",
            "|ltm3wy|BYND I like the s...|        DD|    0|        0.48|           wownicko|          66|23 short interest...|1614424872|https://www.reddi...|\n",
            "|ltm716|Another additiona...|        DD|   73|        0.89|          Ravonator|          28|GME \n",
            "\n",
            "From Barron...|1614425209|https://www.reddi...|\n",
            "|ltm9gp|To all of you ape...|Discussion| 6170|        0.95|           4thewin2|         962|You will NEVER fi...|1614425493|https://www.reddi...|\n",
            "|ltmbyi|Deep Fucking Valu...|      Meme|   16|        0.68|GrowUpAmericaDotOrg|           4|Deep Fucking Valu...|1614425783|https://www.reddi...|\n",
            "|ltpf7f|DD Everything you...|        DD|  992|        0.94|           --X0X0--|         241|Ey my fellow auti...|1614436701|https://www.reddi...|\n",
            "|ltr78b|Heres why I think...|        DD|  274|        0.89|    manofculture003|         110|TLT has bottomed ...|1614442020|https://www.reddi...|\n",
            "|ltu9ey|DOCU is the marke...|        DD|   23|        0.72|      dankantspelle|          37|\n",
            "DocuSign Inc is ...|1614450663|https://www.reddi...|\n",
            "|ltw8nt|Right Time for Ri...|        DD|   36|        0.79|    Michael_Therami|          69|This analysis loo...|1614456609|https://www.reddi...|\n",
            "|ltxcnv|AXTA  Boomer stoc...|        DD|    1|        0.52|            sdotngo|          14|Axalta is a globa...|1614460044|https://www.reddi...|\n",
            "|ltxv73|AMCGMC YOU MUST M...|Discussion|  343|        0.89|     stimulustrader|         160|THIS SHOULD SAY A...|1614461645|https://www.reddi...|\n",
            "|lty1na|Do NOT give into ...|Discussion| 2311|        0.95|   chopperdrawlion4|         259|Been seeing a lot...|1614462205|https://www.reddi...|\n",
            "|lty21p|What will you do ...|Discussion|   17|        0.59|       ToadCreature|          60|Charity savings a...|1614462238|https://www.reddi...|\n",
            "|lty2xy|AMD DD Lisa Su go...|        DD|   78|        0.82|   NecessaryBandAid|          38|Lisa Su CEO of AM...|1614462320|https://www.reddi...|\n",
            "+------+--------------------+----------+-----+------------+-------------------+------------+--------------------+----------+--------------------+\n",
            "only showing top 20 rows\n",
            "\n"
          ],
          "name": "stdout"
        }
      ]
    },
    {
      "cell_type": "code",
      "metadata": {
        "id": "cQ1BTHOcEHCp"
      },
      "source": [
        "import praw\n",
        "import os\n",
        "\"\"\"\n",
        "Connect to Reddit API using environment variables. (values from reddit app)\n",
        "- returns: reddit instance\n",
        "\"\"\"\n",
        "def connect_reddit():\n",
        "  reddit = praw.Reddit(\n",
        "    username = \"fryingpannnnnn\", #os.environ['REDDIT_NAME'],\n",
        "    password = \"wsbpan123\", #os.environ['REDDIT_PASS'],\n",
        "    client_secret = \"GWFFdjptuoOsDPjpxERQsBY-xV7GfQ\", #os.environ['REDDIT_SECRET'],\n",
        "    client_id = \"VWDfl0X3JFVwWQ\", #os.environ['REDDIT_CLIENTWSB'],\n",
        "    user_agent = \"wsbscrape\",\n",
        "    check_for_async=False\n",
        "  )\n",
        "  return reddit"
      ],
      "execution_count": 65,
      "outputs": []
    },
    {
      "cell_type": "code",
      "metadata": {
        "colab": {
          "base_uri": "https://localhost:8080/"
        },
        "id": "M0CTy1LKcTaH",
        "outputId": "ca851f0d-b205-4ddd-df8e-94483a1ba850"
      },
      "source": [
        "# Testing connect_reddit() function\n",
        "# Should print \"<praw.reddit.Reddit object at ...>\"\n",
        "reddit = connect_reddit()\n",
        "print(reddit)"
      ],
      "execution_count": 66,
      "outputs": [
        {
          "output_type": "stream",
          "text": [
            "<praw.reddit.Reddit object at 0x7f73a8e68850>\n"
          ],
          "name": "stdout"
        }
      ]
    },
    {
      "cell_type": "code",
      "metadata": {
        "id": "JTlndzbWc1FG"
      },
      "source": [
        "\"\"\"\n",
        "Function to retrieve all Reddit posts of given ids.\n",
        "- unique_posts: the id of the posts you want to retrieve.\n",
        "- returns: list of reddit submission instances (reddit posts) of the input ids.\n",
        "\"\"\"\n",
        "def get_reddit_posts(unique_posts):\n",
        "  reddit = connect_reddit()\n",
        "  PAUSE_BEFORE_NEXT_CALL = 0.3\n",
        "\n",
        "  reddit_posts = []\n",
        "\n",
        "  for index,post_id in enumerate(unique_posts):\n",
        "    submission = reddit.submission(id=post_id)\n",
        "    if submission.link_flair_text and submission.selftext != \"[removed]\" and submission.selftext != \"[deleted]\" and submission.selftext:\n",
        "      reddit_posts.append(submission)\n",
        "      print(index, submission.title)\n",
        "    time.sleep(PAUSE_BEFORE_NEXT_CALL)\n",
        "\n",
        "  return reddit_posts"
      ],
      "execution_count": 67,
      "outputs": []
    },
    {
      "cell_type": "code",
      "metadata": {
        "colab": {
          "base_uri": "https://localhost:8080/"
        },
        "id": "To3f1xXhqxvb",
        "outputId": "4b05f412-fd51-41a4-ec29-416b1d085186"
      },
      "source": [
        "# Testing get_reddit_posts(): retrieving 1000 posts.\n",
        "reddit_posts = get_reddit_posts(posts)\n",
        "print(\"Size of posts: \", len(reddit_posts))\n",
        "print(\"First 5 posts: \", reddit_posts[:10])"
      ],
      "execution_count": 68,
      "outputs": [
        {
          "output_type": "stream",
          "text": [
            "58 $FSR Updated Price Target: $4.21\n",
            "95 My DD on the the perfect storm for Americas largest steel manufacture....CLF\n",
            "398 Tiger Cub Archegos Liquidation and Friday’s market action in some of the stocks affected\n",
            "403 Move over UWMC, PFSI is the most undervalued large mortgage company\n",
            "535 [$BB] The size of real-world driving datasets that Blackberry IVY has access to will be so much bigger than Tesla's\n",
            "895 Biden's Infrastructure Plan and BLNK moon potential?\n",
            "923 Blackberry QNX + IVY might be the next Android + Google Mobile Services\n",
            "933 Battle of the Fallen Giants: ViacomCBS vs DISCOVERY COMMUNICATIONS INC. (A shallow comparison of them both.)\n",
            "968 Why Cannabis Legalization is BEARISH for some MSOs and BULLISH AF for LPs like $APHA/$TLRY 🚀🚀🚀\n",
            "972 QNX hypervisor will be in all future connected EVs (possibly including Tesla as self-driving and vehicle software becomes more regulated)\n",
            "1084 $Root why I like this stock.\n",
            "1134 ASO - What Do You Think?\n",
            "1167 Cathie Wood's ARK purchased more than 1 million shares of Opendoor the past two days, pay attention you fucks\n",
            "1200 Pitney Bowes may be the beneficiary of USPS's new 10-Year Plan\n",
            "1212 $GOEV - The Bull Case of Canoo Inc. AKA $GOEV AKA they-better-fucking-deliver-on-earnings-or-i-am-out-a-bunch-of-fucking-money (#11 Weekend Schitzo Edition)\n",
            "1296 What Are Your Moves Tomorrow, March 29, 2021\n",
            "1303 Let’s Talk About “Market Makers”\n",
            "Size of posts:  17\n",
            "First 5 posts:  [Submission(id='melf8c'), Submission(id='mem5h3'), Submission(id='mer0gl'), Submission(id='mer3er'), Submission(id='metsxq'), Submission(id='mf2b1g'), Submission(id='mf2t5a'), Submission(id='mf30uw'), Submission(id='mf3mog'), Submission(id='mf3r7c')]\n"
          ],
          "name": "stdout"
        }
      ]
    },
    {
      "cell_type": "code",
      "metadata": {
        "colab": {
          "base_uri": "https://localhost:8080/",
          "height": 143
        },
        "id": "Or84I9x0x5q2",
        "outputId": "46b9858c-de84-475e-a66c-a4aa52028609"
      },
      "source": [
        "reddit_posts[8].selftext = reddit_posts[8].selftext.translate(str.maketrans('', '', string.punctuation))\n",
        "reddit_posts[8].selftext"
      ],
      "execution_count": 112,
      "outputs": [
        {
          "output_type": "execute_result",
          "data": {
            "application/vnd.google.colaboratory.intrinsic+json": {
              "type": "string"
            },
            "text/plain": [
              "'This weekend New York legislators finally agreed on all details of their marijuana legalization bill and expect it to be voted on in the coming days It is GREAT news for LPs and pretty worrying for retail dependant MSOs like Trulieve or Curaleaf but great news for wholesale based MSOs like Cresco or 4 Front Article about NY weed from our favorite shills CNBChttpswwwgooglecomampswwwnbcnewscomnewsampncna1262266 The interesting part of NYs bill is that they are implementing a TIERED system Meaning MSOs will NOT be allowed to create an oligarchy like they are accustomed to and rely upon Some companies will be grandfathered in but even those grandfathered will come with some pretty shitty limitations on expansion LPs entering the market later will be in a better position than grandfathered MSOs by multiples It is also interesting that New York believes that their model will be the ideal national model That would have some massive consequences for MSOs When this bill becomes law New York will be poised to implement a nationleading model for what marijuana legalization can look likeConsidering Chuck Schumer DNY is crafting his own federal marijuana bill for the Senate theres every reason to believe we will see similarities between New Yorks bill and Schumers bill The intent here is clear Democrats want to use the marijuana industry to create opportunities for minorities and oligarchies do not create opportunities MSOs are watching their precious business model crumble right before their eyes and LPs are watching a marvelous industry open slowly with WIDE OPEN arms A forced vertical integration is worst case scenario for LPs but being allowed to ship their products into states like NY without having to own a retail store to do so is the best case scenario No retail commitments and very little infrastructure is the exact capital light model Curaleaf is using to tackle the EU market and its the same one ALL LPs will be using to enter the US Curaleaf specifically says that their EU approach has tremendous financial benefits versus the US approach of vertical integration Keep in mind companies like Trulieve and Curaleaf wouldnt be big without having the advantage of establishing oligarchies Trulieve for example holds over 50 market share in Florida thanks to the overly restricted laws surrounding marijuana Theres absolutely no chance they will be able to hold a 50 market share in a open legal market Theres also no reason to expect they will even be successful at all once any competition is allowed in They will be fighting at least 10x the amount of stores they currently compete with They will be forced to compete via price and quality for the first time They are untested in both aspects Anyone can sell weed when youre the only guy in town selling it just ask a cartel how they sell brick weed Lol Your product quality doesnt matter if theres little to no competition Also its not like either company has a secret sauce that makes them successful They dont have brand loyalty like Cookies and they havent been proven in a competitive market like 4Front They just sell weed in places where theres not much competition thats it Most MSO gang morons I mean Investors are stuck looking at the marijuana industry as it stands today Last I checked Investing is a forward looking thing Todays marijuana Industry creates oligarchies tomorrows marijuana Industry creates opportunities Companies like Cresco or 4Front who are wholesale focused are in the best position to take advantage of the thousands and thousands of new shelves that will opening with federal legalization Companies like Trulieve and Curaleaf will have to reinvent their business model and Trulieve might actually have to pay someone to create some logo artwork for them Their current logo looks like a 5 package from Fiverr Maybe upgrade to the 20 this time Trulieve Lmao'"
            ]
          },
          "metadata": {
            "tags": []
          },
          "execution_count": 112
        }
      ]
    },
    {
      "cell_type": "code",
      "metadata": {
        "colab": {
          "base_uri": "https://localhost:8080/"
        },
        "id": "hvh1_jZ7BzmQ",
        "outputId": "c3513c5b-a28b-4b86-9336-5b418f683f52"
      },
      "source": [
        "posts_rdd = spark.sparkContext.parallelize(reddit_posts)\n",
        "posts_rdd = posts_rdd.map(lambda post: Row(title=post.title, flair=post.link_flair_text, score=post.score, upvote_ratio=post.upvote_ratio, author=str(post.author), text=post.selftext.translate(str.maketrans('', '', string.punctuation)), created=post.created, url=post.url))\n",
        "posts_df = spark.createDataFrame(posts_rdd)\n",
        "posts_df.show()\n",
        "\n",
        "posts_df.coalesce(1).write.csv('8testredditposts.csv', header=True)"
      ],
      "execution_count": 115,
      "outputs": [
        {
          "output_type": "stream",
          "text": [
            "+--------------------+----------------+-----+------------+--------------------+--------------------+-------------+--------------------+\n",
            "|               title|           flair|score|upvote_ratio|              author|                text|      created|                 url|\n",
            "+--------------------+----------------+-----+------------+--------------------+--------------------+-------------+--------------------+\n",
            "|$FSR Updated Pric...|              DD|   60|        0.73|             fib_seq|So I wrote up a t...|1.616904131E9|https://www.reddi...|\n",
            "|My DD on the the ...|              DD|  286|        0.86|          Matacumbie|If you like tendi...|1.616906325E9|https://www.reddi...|\n",
            "|Tiger Cub Archego...|            News|  342|        0.96|           yintrepid|Several news outl...|1.616921735E9|https://www.reddi...|\n",
            "|Move over UWMC, P...|              DD|    0|        0.35|         CMScientist|First a summary\n",
            "\n",
            "...|1.616922003E9|https://www.reddi...|\n",
            "|[$BB] The size of...|              DD|  960|        0.88|  Character-Cup-2263|A huge reason for...| 1.61693186E9|https://www.reddi...|\n",
            "|Biden's Infrastru...|      Discussion|   18|        0.71|          Bukkakecat|Preface\n",
            "\n",
            " Not try...|1.616972082E9|https://www.reddi...|\n",
            "|Blackberry QNX + ...|      Discussion|  672|        0.89|  Character-Cup-2263|Blackberry as a t...|1.616973562E9|https://www.reddi...|\n",
            "|Battle of the Fal...|              DD|   79|        0.89| Dinosaur_Eats_Pizza|BLUF Both of thes...|1.616974205E9|https://www.reddi...|\n",
            "|Why Cannabis Lega...|              DD|   73|        0.79|      OverwatchNWeed|This weekend New ...|1.616976018E9|https://www.reddi...|\n",
            "|QNX hypervisor wi...|              DD|   41|        0.78|  Character-Cup-2263|                  10|1.616976372E9|https://www.reddi...|\n",
            "|$Root why I like ...|              DD|   51|        0.72|   darksoulmakehappy|                  10|1.616980952E9|https://www.reddi...|\n",
            "|ASO - What Do You...|      Discussion|   35|        0.71|     Haudenosaunee23|For when you guys...|1.616983391E9|https://www.reddi...|\n",
            "|Cathie Wood's ARK...|              DD|  778|        0.89|      HereToPassTime| Opendoor is digi...|1.616984386E9|https://www.reddi...|\n",
            "|Pitney Bowes may ...|      Discussion|   23|        0.76|       TraderJoe1776|On March 23 2021 ...|1.616985797E9|https://www.reddi...|\n",
            "|$GOEV - The Bull ...|              DD|  204|        0.85|     BrotherLuminous|Good Afternoonhtt...|1.616986549E9|https://www.reddi...|\n",
            "|What Are Your Mov...|Daily Discussion|  416|        0.97|OPINION_IS_UNPOPULAR|Your daily tradin...|1.616990412E9|https://www.reddi...|\n",
            "|Let’s Talk About ...|      Discussion|  214|        0.94|        OfficerTruth| \n",
            "\n",
            "Let’s Talk Abo...|1.616990758E9|https://www.reddi...|\n",
            "+--------------------+----------------+-----+------------+--------------------+--------------------+-------------+--------------------+\n",
            "\n"
          ],
          "name": "stdout"
        }
      ]
    },
    {
      "cell_type": "code",
      "metadata": {
        "id": "cmtATVXUBb3p"
      },
      "source": [
        "\"\"\"\n",
        "Filter posts\n",
        "\"\"\"\n",
        "def filter_posts(reddit_posts):\n",
        "  posts_rdd = spark.sparkContext.parallelize(reddit_posts)\n",
        "  posts_rdd = posts_rdd.filter(lambda post: post.selftext != \"[removed]\" and post.selftext != \"[deleted]\" and post.selftext)\n",
        "  #posts_rdd = posts_rdd.map(lambda post: Row(ticker=get_ticker(post.title), title=post.title, flair=post.link_flair_text, score=post.score, upvote_ratio=post.upvote_ratio, author=str(post.author), text=post.selftext, created=post.created, url=post.url))\n",
        "  #posts_df = spark.createDataFrame(posts_rdd)\n",
        "  return posts_rdd\n"
      ],
      "execution_count": 56,
      "outputs": []
    },
    {
      "cell_type": "code",
      "metadata": {
        "colab": {
          "base_uri": "https://localhost:8080/",
          "height": 978
        },
        "id": "HwLYdxxoCU_k",
        "outputId": "d5f1f969-6be8-4794-e270-70628cb307e7"
      },
      "source": [
        "# test filter_posts\n",
        "all_posts = filter_posts(reddit_posts)\n",
        "all_posts.take(20)"
      ],
      "execution_count": 57,
      "outputs": [
        {
          "output_type": "error",
          "ename": "KeyboardInterrupt",
          "evalue": "ignored",
          "traceback": [
            "\u001b[0;31m---------------------------------------------------------------------------\u001b[0m",
            "\u001b[0;31mKeyboardInterrupt\u001b[0m                         Traceback (most recent call last)",
            "\u001b[0;32m<ipython-input-57-87898d746205>\u001b[0m in \u001b[0;36m<module>\u001b[0;34m()\u001b[0m\n\u001b[1;32m      1\u001b[0m \u001b[0;31m# test filter_posts\u001b[0m\u001b[0;34m\u001b[0m\u001b[0;34m\u001b[0m\u001b[0;34m\u001b[0m\u001b[0m\n\u001b[1;32m      2\u001b[0m \u001b[0mall_posts\u001b[0m \u001b[0;34m=\u001b[0m \u001b[0mfilter_posts\u001b[0m\u001b[0;34m(\u001b[0m\u001b[0mreddit_posts\u001b[0m\u001b[0;34m)\u001b[0m\u001b[0;34m\u001b[0m\u001b[0;34m\u001b[0m\u001b[0m\n\u001b[0;32m----> 3\u001b[0;31m \u001b[0mall_posts\u001b[0m\u001b[0;34m.\u001b[0m\u001b[0mtake\u001b[0m\u001b[0;34m(\u001b[0m\u001b[0;36m20\u001b[0m\u001b[0;34m)\u001b[0m\u001b[0;34m\u001b[0m\u001b[0;34m\u001b[0m\u001b[0m\n\u001b[0m",
            "\u001b[0;32m/usr/local/lib/python3.7/dist-packages/pyspark/rdd.py\u001b[0m in \u001b[0;36mtake\u001b[0;34m(self, num)\u001b[0m\n\u001b[1;32m   1564\u001b[0m \u001b[0;34m\u001b[0m\u001b[0m\n\u001b[1;32m   1565\u001b[0m             \u001b[0mp\u001b[0m \u001b[0;34m=\u001b[0m \u001b[0mrange\u001b[0m\u001b[0;34m(\u001b[0m\u001b[0mpartsScanned\u001b[0m\u001b[0;34m,\u001b[0m \u001b[0mmin\u001b[0m\u001b[0;34m(\u001b[0m\u001b[0mpartsScanned\u001b[0m \u001b[0;34m+\u001b[0m \u001b[0mnumPartsToTry\u001b[0m\u001b[0;34m,\u001b[0m \u001b[0mtotalParts\u001b[0m\u001b[0;34m)\u001b[0m\u001b[0;34m)\u001b[0m\u001b[0;34m\u001b[0m\u001b[0;34m\u001b[0m\u001b[0m\n\u001b[0;32m-> 1566\u001b[0;31m             \u001b[0mres\u001b[0m \u001b[0;34m=\u001b[0m \u001b[0mself\u001b[0m\u001b[0;34m.\u001b[0m\u001b[0mcontext\u001b[0m\u001b[0;34m.\u001b[0m\u001b[0mrunJob\u001b[0m\u001b[0;34m(\u001b[0m\u001b[0mself\u001b[0m\u001b[0;34m,\u001b[0m \u001b[0mtakeUpToNumLeft\u001b[0m\u001b[0;34m,\u001b[0m \u001b[0mp\u001b[0m\u001b[0;34m)\u001b[0m\u001b[0;34m\u001b[0m\u001b[0;34m\u001b[0m\u001b[0m\n\u001b[0m\u001b[1;32m   1567\u001b[0m \u001b[0;34m\u001b[0m\u001b[0m\n\u001b[1;32m   1568\u001b[0m             \u001b[0mitems\u001b[0m \u001b[0;34m+=\u001b[0m \u001b[0mres\u001b[0m\u001b[0;34m\u001b[0m\u001b[0;34m\u001b[0m\u001b[0m\n",
            "\u001b[0;32m/usr/local/lib/python3.7/dist-packages/pyspark/context.py\u001b[0m in \u001b[0;36mrunJob\u001b[0;34m(self, rdd, partitionFunc, partitions, allowLocal)\u001b[0m\n\u001b[1;32m   1231\u001b[0m         \u001b[0;31m# SparkContext#runJob.\u001b[0m\u001b[0;34m\u001b[0m\u001b[0;34m\u001b[0m\u001b[0;34m\u001b[0m\u001b[0m\n\u001b[1;32m   1232\u001b[0m         \u001b[0mmappedRDD\u001b[0m \u001b[0;34m=\u001b[0m \u001b[0mrdd\u001b[0m\u001b[0;34m.\u001b[0m\u001b[0mmapPartitions\u001b[0m\u001b[0;34m(\u001b[0m\u001b[0mpartitionFunc\u001b[0m\u001b[0;34m)\u001b[0m\u001b[0;34m\u001b[0m\u001b[0;34m\u001b[0m\u001b[0m\n\u001b[0;32m-> 1233\u001b[0;31m         \u001b[0msock_info\u001b[0m \u001b[0;34m=\u001b[0m \u001b[0mself\u001b[0m\u001b[0;34m.\u001b[0m\u001b[0m_jvm\u001b[0m\u001b[0;34m.\u001b[0m\u001b[0mPythonRDD\u001b[0m\u001b[0;34m.\u001b[0m\u001b[0mrunJob\u001b[0m\u001b[0;34m(\u001b[0m\u001b[0mself\u001b[0m\u001b[0;34m.\u001b[0m\u001b[0m_jsc\u001b[0m\u001b[0;34m.\u001b[0m\u001b[0msc\u001b[0m\u001b[0;34m(\u001b[0m\u001b[0;34m)\u001b[0m\u001b[0;34m,\u001b[0m \u001b[0mmappedRDD\u001b[0m\u001b[0;34m.\u001b[0m\u001b[0m_jrdd\u001b[0m\u001b[0;34m,\u001b[0m \u001b[0mpartitions\u001b[0m\u001b[0;34m)\u001b[0m\u001b[0;34m\u001b[0m\u001b[0;34m\u001b[0m\u001b[0m\n\u001b[0m\u001b[1;32m   1234\u001b[0m         \u001b[0;32mreturn\u001b[0m \u001b[0mlist\u001b[0m\u001b[0;34m(\u001b[0m\u001b[0m_load_from_socket\u001b[0m\u001b[0;34m(\u001b[0m\u001b[0msock_info\u001b[0m\u001b[0;34m,\u001b[0m \u001b[0mmappedRDD\u001b[0m\u001b[0;34m.\u001b[0m\u001b[0m_jrdd_deserializer\u001b[0m\u001b[0;34m)\u001b[0m\u001b[0;34m)\u001b[0m\u001b[0;34m\u001b[0m\u001b[0;34m\u001b[0m\u001b[0m\n\u001b[1;32m   1235\u001b[0m \u001b[0;34m\u001b[0m\u001b[0m\n",
            "\u001b[0;32m/usr/local/lib/python3.7/dist-packages/py4j/java_gateway.py\u001b[0m in \u001b[0;36m__call__\u001b[0;34m(self, *args)\u001b[0m\n\u001b[1;32m   1301\u001b[0m             \u001b[0mproto\u001b[0m\u001b[0;34m.\u001b[0m\u001b[0mEND_COMMAND_PART\u001b[0m\u001b[0;34m\u001b[0m\u001b[0;34m\u001b[0m\u001b[0m\n\u001b[1;32m   1302\u001b[0m \u001b[0;34m\u001b[0m\u001b[0m\n\u001b[0;32m-> 1303\u001b[0;31m         \u001b[0manswer\u001b[0m \u001b[0;34m=\u001b[0m \u001b[0mself\u001b[0m\u001b[0;34m.\u001b[0m\u001b[0mgateway_client\u001b[0m\u001b[0;34m.\u001b[0m\u001b[0msend_command\u001b[0m\u001b[0;34m(\u001b[0m\u001b[0mcommand\u001b[0m\u001b[0;34m)\u001b[0m\u001b[0;34m\u001b[0m\u001b[0;34m\u001b[0m\u001b[0m\n\u001b[0m\u001b[1;32m   1304\u001b[0m         return_value = get_return_value(\n\u001b[1;32m   1305\u001b[0m             answer, self.gateway_client, self.target_id, self.name)\n",
            "\u001b[0;32m/usr/local/lib/python3.7/dist-packages/py4j/java_gateway.py\u001b[0m in \u001b[0;36msend_command\u001b[0;34m(self, command, retry, binary)\u001b[0m\n\u001b[1;32m   1031\u001b[0m         \u001b[0mconnection\u001b[0m \u001b[0;34m=\u001b[0m \u001b[0mself\u001b[0m\u001b[0;34m.\u001b[0m\u001b[0m_get_connection\u001b[0m\u001b[0;34m(\u001b[0m\u001b[0;34m)\u001b[0m\u001b[0;34m\u001b[0m\u001b[0;34m\u001b[0m\u001b[0m\n\u001b[1;32m   1032\u001b[0m         \u001b[0;32mtry\u001b[0m\u001b[0;34m:\u001b[0m\u001b[0;34m\u001b[0m\u001b[0;34m\u001b[0m\u001b[0m\n\u001b[0;32m-> 1033\u001b[0;31m             \u001b[0mresponse\u001b[0m \u001b[0;34m=\u001b[0m \u001b[0mconnection\u001b[0m\u001b[0;34m.\u001b[0m\u001b[0msend_command\u001b[0m\u001b[0;34m(\u001b[0m\u001b[0mcommand\u001b[0m\u001b[0;34m)\u001b[0m\u001b[0;34m\u001b[0m\u001b[0;34m\u001b[0m\u001b[0m\n\u001b[0m\u001b[1;32m   1034\u001b[0m             \u001b[0;32mif\u001b[0m \u001b[0mbinary\u001b[0m\u001b[0;34m:\u001b[0m\u001b[0;34m\u001b[0m\u001b[0;34m\u001b[0m\u001b[0m\n\u001b[1;32m   1035\u001b[0m                 \u001b[0;32mreturn\u001b[0m \u001b[0mresponse\u001b[0m\u001b[0;34m,\u001b[0m \u001b[0mself\u001b[0m\u001b[0;34m.\u001b[0m\u001b[0m_create_connection_guard\u001b[0m\u001b[0;34m(\u001b[0m\u001b[0mconnection\u001b[0m\u001b[0;34m)\u001b[0m\u001b[0;34m\u001b[0m\u001b[0;34m\u001b[0m\u001b[0m\n",
            "\u001b[0;32m/usr/local/lib/python3.7/dist-packages/py4j/java_gateway.py\u001b[0m in \u001b[0;36msend_command\u001b[0;34m(self, command)\u001b[0m\n\u001b[1;32m   1198\u001b[0m \u001b[0;34m\u001b[0m\u001b[0m\n\u001b[1;32m   1199\u001b[0m         \u001b[0;32mtry\u001b[0m\u001b[0;34m:\u001b[0m\u001b[0;34m\u001b[0m\u001b[0;34m\u001b[0m\u001b[0m\n\u001b[0;32m-> 1200\u001b[0;31m             \u001b[0manswer\u001b[0m \u001b[0;34m=\u001b[0m \u001b[0msmart_decode\u001b[0m\u001b[0;34m(\u001b[0m\u001b[0mself\u001b[0m\u001b[0;34m.\u001b[0m\u001b[0mstream\u001b[0m\u001b[0;34m.\u001b[0m\u001b[0mreadline\u001b[0m\u001b[0;34m(\u001b[0m\u001b[0;34m)\u001b[0m\u001b[0;34m[\u001b[0m\u001b[0;34m:\u001b[0m\u001b[0;34m-\u001b[0m\u001b[0;36m1\u001b[0m\u001b[0;34m]\u001b[0m\u001b[0;34m)\u001b[0m\u001b[0;34m\u001b[0m\u001b[0;34m\u001b[0m\u001b[0m\n\u001b[0m\u001b[1;32m   1201\u001b[0m             \u001b[0mlogger\u001b[0m\u001b[0;34m.\u001b[0m\u001b[0mdebug\u001b[0m\u001b[0;34m(\u001b[0m\u001b[0;34m\"Answer received: {0}\"\u001b[0m\u001b[0;34m.\u001b[0m\u001b[0mformat\u001b[0m\u001b[0;34m(\u001b[0m\u001b[0manswer\u001b[0m\u001b[0;34m)\u001b[0m\u001b[0;34m)\u001b[0m\u001b[0;34m\u001b[0m\u001b[0;34m\u001b[0m\u001b[0m\n\u001b[1;32m   1202\u001b[0m             \u001b[0;32mif\u001b[0m \u001b[0manswer\u001b[0m\u001b[0;34m.\u001b[0m\u001b[0mstartswith\u001b[0m\u001b[0;34m(\u001b[0m\u001b[0mproto\u001b[0m\u001b[0;34m.\u001b[0m\u001b[0mRETURN_MESSAGE\u001b[0m\u001b[0;34m)\u001b[0m\u001b[0;34m:\u001b[0m\u001b[0;34m\u001b[0m\u001b[0;34m\u001b[0m\u001b[0m\n",
            "\u001b[0;32m/usr/lib/python3.7/socket.py\u001b[0m in \u001b[0;36mreadinto\u001b[0;34m(self, b)\u001b[0m\n\u001b[1;32m    587\u001b[0m         \u001b[0;32mwhile\u001b[0m \u001b[0;32mTrue\u001b[0m\u001b[0;34m:\u001b[0m\u001b[0;34m\u001b[0m\u001b[0;34m\u001b[0m\u001b[0m\n\u001b[1;32m    588\u001b[0m             \u001b[0;32mtry\u001b[0m\u001b[0;34m:\u001b[0m\u001b[0;34m\u001b[0m\u001b[0;34m\u001b[0m\u001b[0m\n\u001b[0;32m--> 589\u001b[0;31m                 \u001b[0;32mreturn\u001b[0m \u001b[0mself\u001b[0m\u001b[0;34m.\u001b[0m\u001b[0m_sock\u001b[0m\u001b[0;34m.\u001b[0m\u001b[0mrecv_into\u001b[0m\u001b[0;34m(\u001b[0m\u001b[0mb\u001b[0m\u001b[0;34m)\u001b[0m\u001b[0;34m\u001b[0m\u001b[0;34m\u001b[0m\u001b[0m\n\u001b[0m\u001b[1;32m    590\u001b[0m             \u001b[0;32mexcept\u001b[0m \u001b[0mtimeout\u001b[0m\u001b[0;34m:\u001b[0m\u001b[0;34m\u001b[0m\u001b[0;34m\u001b[0m\u001b[0m\n\u001b[1;32m    591\u001b[0m                 \u001b[0mself\u001b[0m\u001b[0;34m.\u001b[0m\u001b[0m_timeout_occurred\u001b[0m \u001b[0;34m=\u001b[0m \u001b[0;32mTrue\u001b[0m\u001b[0;34m\u001b[0m\u001b[0;34m\u001b[0m\u001b[0m\n",
            "\u001b[0;31mKeyboardInterrupt\u001b[0m: "
          ]
        }
      ]
    },
    {
      "cell_type": "code",
      "metadata": {
        "colab": {
          "base_uri": "https://localhost:8080/",
          "height": 353
        },
        "id": "u5ptP3dD9WsQ",
        "outputId": "392fa4ee-7253-4eeb-b9e9-d83cd845a7d3"
      },
      "source": [
        "posts_rdd = spark.sparkContext.parallelize(reddit_posts)\n",
        "posts_rdd = posts_rdd.filter(lambda post: post.selftext != \"[removed]\" and post.selftext != \"[deleted]\" and post.selftext)\n",
        "posts_rdd.collect()"
      ],
      "execution_count": 37,
      "outputs": [
        {
          "output_type": "error",
          "ename": "KeyboardInterrupt",
          "evalue": "ignored",
          "traceback": [
            "\u001b[0;31m---------------------------------------------------------------------------\u001b[0m",
            "\u001b[0;31mKeyboardInterrupt\u001b[0m                         Traceback (most recent call last)",
            "\u001b[0;32m<ipython-input-37-65da1f4dba22>\u001b[0m in \u001b[0;36m<module>\u001b[0;34m()\u001b[0m\n\u001b[1;32m      1\u001b[0m \u001b[0mposts_rdd\u001b[0m \u001b[0;34m=\u001b[0m \u001b[0mspark\u001b[0m\u001b[0;34m.\u001b[0m\u001b[0msparkContext\u001b[0m\u001b[0;34m.\u001b[0m\u001b[0mparallelize\u001b[0m\u001b[0;34m(\u001b[0m\u001b[0mreddit_posts\u001b[0m\u001b[0;34m)\u001b[0m\u001b[0;34m\u001b[0m\u001b[0;34m\u001b[0m\u001b[0m\n\u001b[1;32m      2\u001b[0m \u001b[0mposts_rdd\u001b[0m \u001b[0;34m=\u001b[0m \u001b[0mposts_rdd\u001b[0m\u001b[0;34m.\u001b[0m\u001b[0mfilter\u001b[0m\u001b[0;34m(\u001b[0m\u001b[0;32mlambda\u001b[0m \u001b[0mpost\u001b[0m\u001b[0;34m:\u001b[0m \u001b[0mpost\u001b[0m\u001b[0;34m.\u001b[0m\u001b[0mselftext\u001b[0m \u001b[0;34m!=\u001b[0m \u001b[0;34m\"[removed]\"\u001b[0m \u001b[0;32mand\u001b[0m \u001b[0mpost\u001b[0m\u001b[0;34m.\u001b[0m\u001b[0mselftext\u001b[0m \u001b[0;34m!=\u001b[0m \u001b[0;34m\"[deleted]\"\u001b[0m \u001b[0;32mand\u001b[0m \u001b[0mpost\u001b[0m\u001b[0;34m.\u001b[0m\u001b[0mselftext\u001b[0m\u001b[0;34m)\u001b[0m\u001b[0;34m\u001b[0m\u001b[0;34m\u001b[0m\u001b[0m\n\u001b[0;32m----> 3\u001b[0;31m \u001b[0mposts_rdd\u001b[0m\u001b[0;34m.\u001b[0m\u001b[0mcollect\u001b[0m\u001b[0;34m(\u001b[0m\u001b[0;34m)\u001b[0m\u001b[0;34m\u001b[0m\u001b[0;34m\u001b[0m\u001b[0m\n\u001b[0m",
            "\u001b[0;32m/usr/local/lib/python3.7/dist-packages/pyspark/rdd.py\u001b[0m in \u001b[0;36mcollect\u001b[0;34m(self)\u001b[0m\n\u001b[1;32m    947\u001b[0m         \"\"\"\n\u001b[1;32m    948\u001b[0m         \u001b[0;32mwith\u001b[0m \u001b[0mSCCallSiteSync\u001b[0m\u001b[0;34m(\u001b[0m\u001b[0mself\u001b[0m\u001b[0;34m.\u001b[0m\u001b[0mcontext\u001b[0m\u001b[0;34m)\u001b[0m \u001b[0;32mas\u001b[0m \u001b[0mcss\u001b[0m\u001b[0;34m:\u001b[0m\u001b[0;34m\u001b[0m\u001b[0;34m\u001b[0m\u001b[0m\n\u001b[0;32m--> 949\u001b[0;31m             \u001b[0msock_info\u001b[0m \u001b[0;34m=\u001b[0m \u001b[0mself\u001b[0m\u001b[0;34m.\u001b[0m\u001b[0mctx\u001b[0m\u001b[0;34m.\u001b[0m\u001b[0m_jvm\u001b[0m\u001b[0;34m.\u001b[0m\u001b[0mPythonRDD\u001b[0m\u001b[0;34m.\u001b[0m\u001b[0mcollectAndServe\u001b[0m\u001b[0;34m(\u001b[0m\u001b[0mself\u001b[0m\u001b[0;34m.\u001b[0m\u001b[0m_jrdd\u001b[0m\u001b[0;34m.\u001b[0m\u001b[0mrdd\u001b[0m\u001b[0;34m(\u001b[0m\u001b[0;34m)\u001b[0m\u001b[0;34m)\u001b[0m\u001b[0;34m\u001b[0m\u001b[0;34m\u001b[0m\u001b[0m\n\u001b[0m\u001b[1;32m    950\u001b[0m         \u001b[0;32mreturn\u001b[0m \u001b[0mlist\u001b[0m\u001b[0;34m(\u001b[0m\u001b[0m_load_from_socket\u001b[0m\u001b[0;34m(\u001b[0m\u001b[0msock_info\u001b[0m\u001b[0;34m,\u001b[0m \u001b[0mself\u001b[0m\u001b[0;34m.\u001b[0m\u001b[0m_jrdd_deserializer\u001b[0m\u001b[0;34m)\u001b[0m\u001b[0;34m)\u001b[0m\u001b[0;34m\u001b[0m\u001b[0;34m\u001b[0m\u001b[0m\n\u001b[1;32m    951\u001b[0m \u001b[0;34m\u001b[0m\u001b[0m\n",
            "\u001b[0;32m/usr/local/lib/python3.7/dist-packages/py4j/java_gateway.py\u001b[0m in \u001b[0;36m__call__\u001b[0;34m(self, *args)\u001b[0m\n\u001b[1;32m   1301\u001b[0m             \u001b[0mproto\u001b[0m\u001b[0;34m.\u001b[0m\u001b[0mEND_COMMAND_PART\u001b[0m\u001b[0;34m\u001b[0m\u001b[0;34m\u001b[0m\u001b[0m\n\u001b[1;32m   1302\u001b[0m \u001b[0;34m\u001b[0m\u001b[0m\n\u001b[0;32m-> 1303\u001b[0;31m         \u001b[0manswer\u001b[0m \u001b[0;34m=\u001b[0m \u001b[0mself\u001b[0m\u001b[0;34m.\u001b[0m\u001b[0mgateway_client\u001b[0m\u001b[0;34m.\u001b[0m\u001b[0msend_command\u001b[0m\u001b[0;34m(\u001b[0m\u001b[0mcommand\u001b[0m\u001b[0;34m)\u001b[0m\u001b[0;34m\u001b[0m\u001b[0;34m\u001b[0m\u001b[0m\n\u001b[0m\u001b[1;32m   1304\u001b[0m         return_value = get_return_value(\n\u001b[1;32m   1305\u001b[0m             answer, self.gateway_client, self.target_id, self.name)\n",
            "\u001b[0;32m/usr/local/lib/python3.7/dist-packages/py4j/java_gateway.py\u001b[0m in \u001b[0;36msend_command\u001b[0;34m(self, command, retry, binary)\u001b[0m\n\u001b[1;32m   1031\u001b[0m         \u001b[0mconnection\u001b[0m \u001b[0;34m=\u001b[0m \u001b[0mself\u001b[0m\u001b[0;34m.\u001b[0m\u001b[0m_get_connection\u001b[0m\u001b[0;34m(\u001b[0m\u001b[0;34m)\u001b[0m\u001b[0;34m\u001b[0m\u001b[0;34m\u001b[0m\u001b[0m\n\u001b[1;32m   1032\u001b[0m         \u001b[0;32mtry\u001b[0m\u001b[0;34m:\u001b[0m\u001b[0;34m\u001b[0m\u001b[0;34m\u001b[0m\u001b[0m\n\u001b[0;32m-> 1033\u001b[0;31m             \u001b[0mresponse\u001b[0m \u001b[0;34m=\u001b[0m \u001b[0mconnection\u001b[0m\u001b[0;34m.\u001b[0m\u001b[0msend_command\u001b[0m\u001b[0;34m(\u001b[0m\u001b[0mcommand\u001b[0m\u001b[0;34m)\u001b[0m\u001b[0;34m\u001b[0m\u001b[0;34m\u001b[0m\u001b[0m\n\u001b[0m\u001b[1;32m   1034\u001b[0m             \u001b[0;32mif\u001b[0m \u001b[0mbinary\u001b[0m\u001b[0;34m:\u001b[0m\u001b[0;34m\u001b[0m\u001b[0;34m\u001b[0m\u001b[0m\n\u001b[1;32m   1035\u001b[0m                 \u001b[0;32mreturn\u001b[0m \u001b[0mresponse\u001b[0m\u001b[0;34m,\u001b[0m \u001b[0mself\u001b[0m\u001b[0;34m.\u001b[0m\u001b[0m_create_connection_guard\u001b[0m\u001b[0;34m(\u001b[0m\u001b[0mconnection\u001b[0m\u001b[0;34m)\u001b[0m\u001b[0;34m\u001b[0m\u001b[0;34m\u001b[0m\u001b[0m\n",
            "\u001b[0;32m/usr/local/lib/python3.7/dist-packages/py4j/java_gateway.py\u001b[0m in \u001b[0;36msend_command\u001b[0;34m(self, command)\u001b[0m\n\u001b[1;32m   1198\u001b[0m \u001b[0;34m\u001b[0m\u001b[0m\n\u001b[1;32m   1199\u001b[0m         \u001b[0;32mtry\u001b[0m\u001b[0;34m:\u001b[0m\u001b[0;34m\u001b[0m\u001b[0;34m\u001b[0m\u001b[0m\n\u001b[0;32m-> 1200\u001b[0;31m             \u001b[0manswer\u001b[0m \u001b[0;34m=\u001b[0m \u001b[0msmart_decode\u001b[0m\u001b[0;34m(\u001b[0m\u001b[0mself\u001b[0m\u001b[0;34m.\u001b[0m\u001b[0mstream\u001b[0m\u001b[0;34m.\u001b[0m\u001b[0mreadline\u001b[0m\u001b[0;34m(\u001b[0m\u001b[0;34m)\u001b[0m\u001b[0;34m[\u001b[0m\u001b[0;34m:\u001b[0m\u001b[0;34m-\u001b[0m\u001b[0;36m1\u001b[0m\u001b[0;34m]\u001b[0m\u001b[0;34m)\u001b[0m\u001b[0;34m\u001b[0m\u001b[0;34m\u001b[0m\u001b[0m\n\u001b[0m\u001b[1;32m   1201\u001b[0m             \u001b[0mlogger\u001b[0m\u001b[0;34m.\u001b[0m\u001b[0mdebug\u001b[0m\u001b[0;34m(\u001b[0m\u001b[0;34m\"Answer received: {0}\"\u001b[0m\u001b[0;34m.\u001b[0m\u001b[0mformat\u001b[0m\u001b[0;34m(\u001b[0m\u001b[0manswer\u001b[0m\u001b[0;34m)\u001b[0m\u001b[0;34m)\u001b[0m\u001b[0;34m\u001b[0m\u001b[0;34m\u001b[0m\u001b[0m\n\u001b[1;32m   1202\u001b[0m             \u001b[0;32mif\u001b[0m \u001b[0manswer\u001b[0m\u001b[0;34m.\u001b[0m\u001b[0mstartswith\u001b[0m\u001b[0;34m(\u001b[0m\u001b[0mproto\u001b[0m\u001b[0;34m.\u001b[0m\u001b[0mRETURN_MESSAGE\u001b[0m\u001b[0;34m)\u001b[0m\u001b[0;34m:\u001b[0m\u001b[0;34m\u001b[0m\u001b[0;34m\u001b[0m\u001b[0m\n",
            "\u001b[0;32m/usr/lib/python3.7/socket.py\u001b[0m in \u001b[0;36mreadinto\u001b[0;34m(self, b)\u001b[0m\n\u001b[1;32m    587\u001b[0m         \u001b[0;32mwhile\u001b[0m \u001b[0;32mTrue\u001b[0m\u001b[0;34m:\u001b[0m\u001b[0;34m\u001b[0m\u001b[0;34m\u001b[0m\u001b[0m\n\u001b[1;32m    588\u001b[0m             \u001b[0;32mtry\u001b[0m\u001b[0;34m:\u001b[0m\u001b[0;34m\u001b[0m\u001b[0;34m\u001b[0m\u001b[0m\n\u001b[0;32m--> 589\u001b[0;31m                 \u001b[0;32mreturn\u001b[0m \u001b[0mself\u001b[0m\u001b[0;34m.\u001b[0m\u001b[0m_sock\u001b[0m\u001b[0;34m.\u001b[0m\u001b[0mrecv_into\u001b[0m\u001b[0;34m(\u001b[0m\u001b[0mb\u001b[0m\u001b[0;34m)\u001b[0m\u001b[0;34m\u001b[0m\u001b[0;34m\u001b[0m\u001b[0m\n\u001b[0m\u001b[1;32m    590\u001b[0m             \u001b[0;32mexcept\u001b[0m \u001b[0mtimeout\u001b[0m\u001b[0;34m:\u001b[0m\u001b[0;34m\u001b[0m\u001b[0;34m\u001b[0m\u001b[0m\n\u001b[1;32m    591\u001b[0m                 \u001b[0mself\u001b[0m\u001b[0;34m.\u001b[0m\u001b[0m_timeout_occurred\u001b[0m \u001b[0;34m=\u001b[0m \u001b[0;32mTrue\u001b[0m\u001b[0;34m\u001b[0m\u001b[0;34m\u001b[0m\u001b[0m\n",
            "\u001b[0;31mKeyboardInterrupt\u001b[0m: "
          ]
        }
      ]
    },
    {
      "cell_type": "code",
      "metadata": {
        "id": "-U3fYkj_x9w0",
        "colab": {
          "base_uri": "https://localhost:8080/"
        },
        "outputId": "307869da-a68e-4e00-998d-9b6ec3bfd5dc"
      },
      "source": [
        "posts_rdd = posts_rdd.map(lambda post: Row(ticker=get_ticker(post.title), title=post.title, flair=post.link_flair_text, score=post.score, upvote_ratio=post.upvote_ratio, author=str(post.author), text=post.selftext, created=post.created, url=post.url))\n",
        "posts_df = spark.createDataFrame(posts_rdd)\n",
        "posts_df.show()"
      ],
      "execution_count": 29,
      "outputs": [
        {
          "output_type": "stream",
          "text": [
            "+--------------------+-----+------------+-------------------+---------+-------------+--------------------+\n",
            "|               title|score|upvote_ratio|             author|     text|      created|                 url|\n",
            "+--------------------+-----+------------+-------------------+---------+-------------+--------------------+\n",
            "|Finally recovered...|   52|        0.87|      WarriorAlways|[removed]|1.616901491E9|https://www.reddi...|\n",
            "|Enter the Roaring...|    1|         1.0|               None|[deleted]|1.616901505E9|https://v.redd.it...|\n",
            "|New to investing,...|    1|         1.0|      eevee-lutions|[removed]|1.616901508E9|https://www.reddi...|\n",
            "|💎GME💎Price in L...|    4|        0.75|     Money-Maker111|         |1.616901552E9|https://v.redd.it...|\n",
            "|I, too, took this...|  114|         0.9|         l337joejoe|         |1.616901569E9|https://i.redd.it...|\n",
            "|Enter the Roaring...|   21|        0.92|Inevitable-Elk-4162|         | 1.61690162E9|https://v.redd.it...|\n",
            "|My Beef Lol Mein ...|    1|         1.0|               None|[deleted]|1.616901747E9|https://i.redd.it...|\n",
            "|AMD to the moon. ...|    0|        0.47|          pridez818|         |1.616901856E9|https://i.redd.it...|\n",
            "|  Still worth it tho|    1|         1.0|        Limitup4139|         |1.616901955E9|https://i.redd.it...|\n",
            "|My Beef Lo Mein s...|    1|         1.0|         Cryoxtitan|         |1.616901981E9|https://i.redd.it...|\n",
            "|Reminder to all m...|   15|        0.89|       S3npaiH3ntai|[removed]|1.616901996E9|https://www.reddi...|\n",
            "|I made a Bananer ...|    1|         1.0|           GITSI420|         |1.616902036E9|https://i.redd.it...|\n",
            "|Reminding all Ape...|    1|         1.0|   nieufny_kioskarz|         | 1.61690204E9|https://i.redd.it...|\n",
            "|Celer network (CE...|    1|         1.0|            arjanbo|[removed]| 1.61690206E9|https://www.reddi...|\n",
            "|              HODL🚀|    2|         1.0|            pdpflux|         |1.616902121E9|https://i.redd.it...|\n",
            "|Help a smoothie u...|    1|         1.0|       HarryNutziak|         |1.616902409E9|https://www.reddi...|\n",
            "|Time to use the m...|    5|        0.78|       zimtrovert94|         |1.616902426E9|https://i.redd.it...|\n",
            "|Friends, which sh...|    1|         1.0|       ArvidvanLoon|[removed]|1.616902461E9|https://www.reddi...|\n",
            "|I believe we can fly|    1|         1.0|         l337joejoe|         |1.616902557E9|https://i.redd.it...|\n",
            "|Selling GME cover...|    1|         1.0|             wacomd|[removed]|1.616902599E9|https://www.reddi...|\n",
            "+--------------------+-----+------------+-------------------+---------+-------------+--------------------+\n",
            "only showing top 20 rows\n",
            "\n"
          ],
          "name": "stdout"
        }
      ]
    },
    {
      "cell_type": "code",
      "metadata": {
        "id": "zIrrL4czlt4k",
        "colab": {
          "base_uri": "https://localhost:8080/",
          "height": 336
        },
        "outputId": "bf3e2c74-867f-4f56-a889-5949d3f39f8d"
      },
      "source": [
        "filter_posts = posts_df.na.drop()\n",
        "filter_posts = filter_posts.filter(filter_posts.text != \"[removed]\" && filter_posts.text != \"[deleted]\" && filter_posts.text)\n",
        "filter_posts.take(4)"
      ],
      "execution_count": 33,
      "outputs": [
        {
          "output_type": "error",
          "ename": "KeyboardInterrupt",
          "evalue": "ignored",
          "traceback": [
            "\u001b[0;31m---------------------------------------------------------------------------\u001b[0m",
            "\u001b[0;31mKeyboardInterrupt\u001b[0m                         Traceback (most recent call last)",
            "\u001b[0;32m<ipython-input-33-4d481ef1331b>\u001b[0m in \u001b[0;36m<module>\u001b[0;34m()\u001b[0m\n\u001b[1;32m      1\u001b[0m \u001b[0mfilter_posts\u001b[0m \u001b[0;34m=\u001b[0m \u001b[0mposts_df\u001b[0m\u001b[0;34m.\u001b[0m\u001b[0mna\u001b[0m\u001b[0;34m.\u001b[0m\u001b[0mdrop\u001b[0m\u001b[0;34m(\u001b[0m\u001b[0;34m)\u001b[0m\u001b[0;34m\u001b[0m\u001b[0;34m\u001b[0m\u001b[0m\n\u001b[0;32m----> 2\u001b[0;31m \u001b[0mfilter_posts\u001b[0m\u001b[0;34m.\u001b[0m\u001b[0mshow\u001b[0m\u001b[0;34m(\u001b[0m\u001b[0;34m)\u001b[0m\u001b[0;34m\u001b[0m\u001b[0;34m\u001b[0m\u001b[0m\n\u001b[0m",
            "\u001b[0;32m/usr/local/lib/python3.7/dist-packages/pyspark/sql/dataframe.py\u001b[0m in \u001b[0;36mshow\u001b[0;34m(self, n, truncate, vertical)\u001b[0m\n\u001b[1;32m    482\u001b[0m         \"\"\"\n\u001b[1;32m    483\u001b[0m         \u001b[0;32mif\u001b[0m \u001b[0misinstance\u001b[0m\u001b[0;34m(\u001b[0m\u001b[0mtruncate\u001b[0m\u001b[0;34m,\u001b[0m \u001b[0mbool\u001b[0m\u001b[0;34m)\u001b[0m \u001b[0;32mand\u001b[0m \u001b[0mtruncate\u001b[0m\u001b[0;34m:\u001b[0m\u001b[0;34m\u001b[0m\u001b[0;34m\u001b[0m\u001b[0m\n\u001b[0;32m--> 484\u001b[0;31m             \u001b[0mprint\u001b[0m\u001b[0;34m(\u001b[0m\u001b[0mself\u001b[0m\u001b[0;34m.\u001b[0m\u001b[0m_jdf\u001b[0m\u001b[0;34m.\u001b[0m\u001b[0mshowString\u001b[0m\u001b[0;34m(\u001b[0m\u001b[0mn\u001b[0m\u001b[0;34m,\u001b[0m \u001b[0;36m20\u001b[0m\u001b[0;34m,\u001b[0m \u001b[0mvertical\u001b[0m\u001b[0;34m)\u001b[0m\u001b[0;34m)\u001b[0m\u001b[0;34m\u001b[0m\u001b[0;34m\u001b[0m\u001b[0m\n\u001b[0m\u001b[1;32m    485\u001b[0m         \u001b[0;32melse\u001b[0m\u001b[0;34m:\u001b[0m\u001b[0;34m\u001b[0m\u001b[0;34m\u001b[0m\u001b[0m\n\u001b[1;32m    486\u001b[0m             \u001b[0mprint\u001b[0m\u001b[0;34m(\u001b[0m\u001b[0mself\u001b[0m\u001b[0;34m.\u001b[0m\u001b[0m_jdf\u001b[0m\u001b[0;34m.\u001b[0m\u001b[0mshowString\u001b[0m\u001b[0;34m(\u001b[0m\u001b[0mn\u001b[0m\u001b[0;34m,\u001b[0m \u001b[0mint\u001b[0m\u001b[0;34m(\u001b[0m\u001b[0mtruncate\u001b[0m\u001b[0;34m)\u001b[0m\u001b[0;34m,\u001b[0m \u001b[0mvertical\u001b[0m\u001b[0;34m)\u001b[0m\u001b[0;34m)\u001b[0m\u001b[0;34m\u001b[0m\u001b[0;34m\u001b[0m\u001b[0m\n",
            "\u001b[0;32m/usr/local/lib/python3.7/dist-packages/py4j/java_gateway.py\u001b[0m in \u001b[0;36m__call__\u001b[0;34m(self, *args)\u001b[0m\n\u001b[1;32m   1301\u001b[0m             \u001b[0mproto\u001b[0m\u001b[0;34m.\u001b[0m\u001b[0mEND_COMMAND_PART\u001b[0m\u001b[0;34m\u001b[0m\u001b[0;34m\u001b[0m\u001b[0m\n\u001b[1;32m   1302\u001b[0m \u001b[0;34m\u001b[0m\u001b[0m\n\u001b[0;32m-> 1303\u001b[0;31m         \u001b[0manswer\u001b[0m \u001b[0;34m=\u001b[0m \u001b[0mself\u001b[0m\u001b[0;34m.\u001b[0m\u001b[0mgateway_client\u001b[0m\u001b[0;34m.\u001b[0m\u001b[0msend_command\u001b[0m\u001b[0;34m(\u001b[0m\u001b[0mcommand\u001b[0m\u001b[0;34m)\u001b[0m\u001b[0;34m\u001b[0m\u001b[0;34m\u001b[0m\u001b[0m\n\u001b[0m\u001b[1;32m   1304\u001b[0m         return_value = get_return_value(\n\u001b[1;32m   1305\u001b[0m             answer, self.gateway_client, self.target_id, self.name)\n",
            "\u001b[0;32m/usr/local/lib/python3.7/dist-packages/py4j/java_gateway.py\u001b[0m in \u001b[0;36msend_command\u001b[0;34m(self, command, retry, binary)\u001b[0m\n\u001b[1;32m   1031\u001b[0m         \u001b[0mconnection\u001b[0m \u001b[0;34m=\u001b[0m \u001b[0mself\u001b[0m\u001b[0;34m.\u001b[0m\u001b[0m_get_connection\u001b[0m\u001b[0;34m(\u001b[0m\u001b[0;34m)\u001b[0m\u001b[0;34m\u001b[0m\u001b[0;34m\u001b[0m\u001b[0m\n\u001b[1;32m   1032\u001b[0m         \u001b[0;32mtry\u001b[0m\u001b[0;34m:\u001b[0m\u001b[0;34m\u001b[0m\u001b[0;34m\u001b[0m\u001b[0m\n\u001b[0;32m-> 1033\u001b[0;31m             \u001b[0mresponse\u001b[0m \u001b[0;34m=\u001b[0m \u001b[0mconnection\u001b[0m\u001b[0;34m.\u001b[0m\u001b[0msend_command\u001b[0m\u001b[0;34m(\u001b[0m\u001b[0mcommand\u001b[0m\u001b[0;34m)\u001b[0m\u001b[0;34m\u001b[0m\u001b[0;34m\u001b[0m\u001b[0m\n\u001b[0m\u001b[1;32m   1034\u001b[0m             \u001b[0;32mif\u001b[0m \u001b[0mbinary\u001b[0m\u001b[0;34m:\u001b[0m\u001b[0;34m\u001b[0m\u001b[0;34m\u001b[0m\u001b[0m\n\u001b[1;32m   1035\u001b[0m                 \u001b[0;32mreturn\u001b[0m \u001b[0mresponse\u001b[0m\u001b[0;34m,\u001b[0m \u001b[0mself\u001b[0m\u001b[0;34m.\u001b[0m\u001b[0m_create_connection_guard\u001b[0m\u001b[0;34m(\u001b[0m\u001b[0mconnection\u001b[0m\u001b[0;34m)\u001b[0m\u001b[0;34m\u001b[0m\u001b[0;34m\u001b[0m\u001b[0m\n",
            "\u001b[0;32m/usr/local/lib/python3.7/dist-packages/py4j/java_gateway.py\u001b[0m in \u001b[0;36msend_command\u001b[0;34m(self, command)\u001b[0m\n\u001b[1;32m   1198\u001b[0m \u001b[0;34m\u001b[0m\u001b[0m\n\u001b[1;32m   1199\u001b[0m         \u001b[0;32mtry\u001b[0m\u001b[0;34m:\u001b[0m\u001b[0;34m\u001b[0m\u001b[0;34m\u001b[0m\u001b[0m\n\u001b[0;32m-> 1200\u001b[0;31m             \u001b[0manswer\u001b[0m \u001b[0;34m=\u001b[0m \u001b[0msmart_decode\u001b[0m\u001b[0;34m(\u001b[0m\u001b[0mself\u001b[0m\u001b[0;34m.\u001b[0m\u001b[0mstream\u001b[0m\u001b[0;34m.\u001b[0m\u001b[0mreadline\u001b[0m\u001b[0;34m(\u001b[0m\u001b[0;34m)\u001b[0m\u001b[0;34m[\u001b[0m\u001b[0;34m:\u001b[0m\u001b[0;34m-\u001b[0m\u001b[0;36m1\u001b[0m\u001b[0;34m]\u001b[0m\u001b[0;34m)\u001b[0m\u001b[0;34m\u001b[0m\u001b[0;34m\u001b[0m\u001b[0m\n\u001b[0m\u001b[1;32m   1201\u001b[0m             \u001b[0mlogger\u001b[0m\u001b[0;34m.\u001b[0m\u001b[0mdebug\u001b[0m\u001b[0;34m(\u001b[0m\u001b[0;34m\"Answer received: {0}\"\u001b[0m\u001b[0;34m.\u001b[0m\u001b[0mformat\u001b[0m\u001b[0;34m(\u001b[0m\u001b[0manswer\u001b[0m\u001b[0;34m)\u001b[0m\u001b[0;34m)\u001b[0m\u001b[0;34m\u001b[0m\u001b[0;34m\u001b[0m\u001b[0m\n\u001b[1;32m   1202\u001b[0m             \u001b[0;32mif\u001b[0m \u001b[0manswer\u001b[0m\u001b[0;34m.\u001b[0m\u001b[0mstartswith\u001b[0m\u001b[0;34m(\u001b[0m\u001b[0mproto\u001b[0m\u001b[0;34m.\u001b[0m\u001b[0mRETURN_MESSAGE\u001b[0m\u001b[0;34m)\u001b[0m\u001b[0;34m:\u001b[0m\u001b[0;34m\u001b[0m\u001b[0;34m\u001b[0m\u001b[0m\n",
            "\u001b[0;32m/usr/lib/python3.7/socket.py\u001b[0m in \u001b[0;36mreadinto\u001b[0;34m(self, b)\u001b[0m\n\u001b[1;32m    587\u001b[0m         \u001b[0;32mwhile\u001b[0m \u001b[0;32mTrue\u001b[0m\u001b[0;34m:\u001b[0m\u001b[0;34m\u001b[0m\u001b[0;34m\u001b[0m\u001b[0m\n\u001b[1;32m    588\u001b[0m             \u001b[0;32mtry\u001b[0m\u001b[0;34m:\u001b[0m\u001b[0;34m\u001b[0m\u001b[0;34m\u001b[0m\u001b[0m\n\u001b[0;32m--> 589\u001b[0;31m                 \u001b[0;32mreturn\u001b[0m \u001b[0mself\u001b[0m\u001b[0;34m.\u001b[0m\u001b[0m_sock\u001b[0m\u001b[0;34m.\u001b[0m\u001b[0mrecv_into\u001b[0m\u001b[0;34m(\u001b[0m\u001b[0mb\u001b[0m\u001b[0;34m)\u001b[0m\u001b[0;34m\u001b[0m\u001b[0;34m\u001b[0m\u001b[0m\n\u001b[0m\u001b[1;32m    590\u001b[0m             \u001b[0;32mexcept\u001b[0m \u001b[0mtimeout\u001b[0m\u001b[0;34m:\u001b[0m\u001b[0;34m\u001b[0m\u001b[0;34m\u001b[0m\u001b[0m\n\u001b[1;32m    591\u001b[0m                 \u001b[0mself\u001b[0m\u001b[0;34m.\u001b[0m\u001b[0m_timeout_occurred\u001b[0m \u001b[0;34m=\u001b[0m \u001b[0;32mTrue\u001b[0m\u001b[0;34m\u001b[0m\u001b[0;34m\u001b[0m\u001b[0m\n",
            "\u001b[0;31mKeyboardInterrupt\u001b[0m: "
          ]
        }
      ]
    },
    {
      "cell_type": "code",
      "metadata": {
        "colab": {
          "base_uri": "https://localhost:8080/",
          "height": 318
        },
        "id": "x3mGXYGK0EPl",
        "outputId": "61758ac0-86ce-4820-f66e-c88f5d22b1b2"
      },
      "source": [
        "posts_df.coalesce(1).write.csv('redditposts.csv')"
      ],
      "execution_count": 32,
      "outputs": [
        {
          "output_type": "error",
          "ename": "KeyboardInterrupt",
          "evalue": "ignored",
          "traceback": [
            "\u001b[0;31m---------------------------------------------------------------------------\u001b[0m",
            "\u001b[0;31mKeyboardInterrupt\u001b[0m                         Traceback (most recent call last)",
            "\u001b[0;32m<ipython-input-32-82ab43588dfc>\u001b[0m in \u001b[0;36m<module>\u001b[0;34m()\u001b[0m\n\u001b[0;32m----> 1\u001b[0;31m \u001b[0mposts_df\u001b[0m\u001b[0;34m.\u001b[0m\u001b[0mcoalesce\u001b[0m\u001b[0;34m(\u001b[0m\u001b[0;36m1\u001b[0m\u001b[0;34m)\u001b[0m\u001b[0;34m.\u001b[0m\u001b[0mwrite\u001b[0m\u001b[0;34m.\u001b[0m\u001b[0mcsv\u001b[0m\u001b[0;34m(\u001b[0m\u001b[0;34m'redditposts.csv'\u001b[0m\u001b[0;34m)\u001b[0m\u001b[0;34m\u001b[0m\u001b[0;34m\u001b[0m\u001b[0m\n\u001b[0m",
            "\u001b[0;32m/usr/local/lib/python3.7/dist-packages/pyspark/sql/readwriter.py\u001b[0m in \u001b[0;36mcsv\u001b[0;34m(self, path, mode, compression, sep, quote, escape, header, nullValue, escapeQuotes, quoteAll, dateFormat, timestampFormat, ignoreLeadingWhiteSpace, ignoreTrailingWhiteSpace, charToEscapeQuoteEscaping, encoding, emptyValue, lineSep)\u001b[0m\n\u001b[1;32m   1369\u001b[0m                        \u001b[0mcharToEscapeQuoteEscaping\u001b[0m\u001b[0;34m=\u001b[0m\u001b[0mcharToEscapeQuoteEscaping\u001b[0m\u001b[0;34m,\u001b[0m\u001b[0;34m\u001b[0m\u001b[0;34m\u001b[0m\u001b[0m\n\u001b[1;32m   1370\u001b[0m                        encoding=encoding, emptyValue=emptyValue, lineSep=lineSep)\n\u001b[0;32m-> 1371\u001b[0;31m         \u001b[0mself\u001b[0m\u001b[0;34m.\u001b[0m\u001b[0m_jwrite\u001b[0m\u001b[0;34m.\u001b[0m\u001b[0mcsv\u001b[0m\u001b[0;34m(\u001b[0m\u001b[0mpath\u001b[0m\u001b[0;34m)\u001b[0m\u001b[0;34m\u001b[0m\u001b[0;34m\u001b[0m\u001b[0m\n\u001b[0m\u001b[1;32m   1372\u001b[0m \u001b[0;34m\u001b[0m\u001b[0m\n\u001b[1;32m   1373\u001b[0m     \u001b[0;32mdef\u001b[0m \u001b[0morc\u001b[0m\u001b[0;34m(\u001b[0m\u001b[0mself\u001b[0m\u001b[0;34m,\u001b[0m \u001b[0mpath\u001b[0m\u001b[0;34m,\u001b[0m \u001b[0mmode\u001b[0m\u001b[0;34m=\u001b[0m\u001b[0;32mNone\u001b[0m\u001b[0;34m,\u001b[0m \u001b[0mpartitionBy\u001b[0m\u001b[0;34m=\u001b[0m\u001b[0;32mNone\u001b[0m\u001b[0;34m,\u001b[0m \u001b[0mcompression\u001b[0m\u001b[0;34m=\u001b[0m\u001b[0;32mNone\u001b[0m\u001b[0;34m)\u001b[0m\u001b[0;34m:\u001b[0m\u001b[0;34m\u001b[0m\u001b[0;34m\u001b[0m\u001b[0m\n",
            "\u001b[0;32m/usr/local/lib/python3.7/dist-packages/py4j/java_gateway.py\u001b[0m in \u001b[0;36m__call__\u001b[0;34m(self, *args)\u001b[0m\n\u001b[1;32m   1301\u001b[0m             \u001b[0mproto\u001b[0m\u001b[0;34m.\u001b[0m\u001b[0mEND_COMMAND_PART\u001b[0m\u001b[0;34m\u001b[0m\u001b[0;34m\u001b[0m\u001b[0m\n\u001b[1;32m   1302\u001b[0m \u001b[0;34m\u001b[0m\u001b[0m\n\u001b[0;32m-> 1303\u001b[0;31m         \u001b[0manswer\u001b[0m \u001b[0;34m=\u001b[0m \u001b[0mself\u001b[0m\u001b[0;34m.\u001b[0m\u001b[0mgateway_client\u001b[0m\u001b[0;34m.\u001b[0m\u001b[0msend_command\u001b[0m\u001b[0;34m(\u001b[0m\u001b[0mcommand\u001b[0m\u001b[0;34m)\u001b[0m\u001b[0;34m\u001b[0m\u001b[0;34m\u001b[0m\u001b[0m\n\u001b[0m\u001b[1;32m   1304\u001b[0m         return_value = get_return_value(\n\u001b[1;32m   1305\u001b[0m             answer, self.gateway_client, self.target_id, self.name)\n",
            "\u001b[0;32m/usr/local/lib/python3.7/dist-packages/py4j/java_gateway.py\u001b[0m in \u001b[0;36msend_command\u001b[0;34m(self, command, retry, binary)\u001b[0m\n\u001b[1;32m   1031\u001b[0m         \u001b[0mconnection\u001b[0m \u001b[0;34m=\u001b[0m \u001b[0mself\u001b[0m\u001b[0;34m.\u001b[0m\u001b[0m_get_connection\u001b[0m\u001b[0;34m(\u001b[0m\u001b[0;34m)\u001b[0m\u001b[0;34m\u001b[0m\u001b[0;34m\u001b[0m\u001b[0m\n\u001b[1;32m   1032\u001b[0m         \u001b[0;32mtry\u001b[0m\u001b[0;34m:\u001b[0m\u001b[0;34m\u001b[0m\u001b[0;34m\u001b[0m\u001b[0m\n\u001b[0;32m-> 1033\u001b[0;31m             \u001b[0mresponse\u001b[0m \u001b[0;34m=\u001b[0m \u001b[0mconnection\u001b[0m\u001b[0;34m.\u001b[0m\u001b[0msend_command\u001b[0m\u001b[0;34m(\u001b[0m\u001b[0mcommand\u001b[0m\u001b[0;34m)\u001b[0m\u001b[0;34m\u001b[0m\u001b[0;34m\u001b[0m\u001b[0m\n\u001b[0m\u001b[1;32m   1034\u001b[0m             \u001b[0;32mif\u001b[0m \u001b[0mbinary\u001b[0m\u001b[0;34m:\u001b[0m\u001b[0;34m\u001b[0m\u001b[0;34m\u001b[0m\u001b[0m\n\u001b[1;32m   1035\u001b[0m                 \u001b[0;32mreturn\u001b[0m \u001b[0mresponse\u001b[0m\u001b[0;34m,\u001b[0m \u001b[0mself\u001b[0m\u001b[0;34m.\u001b[0m\u001b[0m_create_connection_guard\u001b[0m\u001b[0;34m(\u001b[0m\u001b[0mconnection\u001b[0m\u001b[0;34m)\u001b[0m\u001b[0;34m\u001b[0m\u001b[0;34m\u001b[0m\u001b[0m\n",
            "\u001b[0;32m/usr/local/lib/python3.7/dist-packages/py4j/java_gateway.py\u001b[0m in \u001b[0;36msend_command\u001b[0;34m(self, command)\u001b[0m\n\u001b[1;32m   1198\u001b[0m \u001b[0;34m\u001b[0m\u001b[0m\n\u001b[1;32m   1199\u001b[0m         \u001b[0;32mtry\u001b[0m\u001b[0;34m:\u001b[0m\u001b[0;34m\u001b[0m\u001b[0;34m\u001b[0m\u001b[0m\n\u001b[0;32m-> 1200\u001b[0;31m             \u001b[0manswer\u001b[0m \u001b[0;34m=\u001b[0m \u001b[0msmart_decode\u001b[0m\u001b[0;34m(\u001b[0m\u001b[0mself\u001b[0m\u001b[0;34m.\u001b[0m\u001b[0mstream\u001b[0m\u001b[0;34m.\u001b[0m\u001b[0mreadline\u001b[0m\u001b[0;34m(\u001b[0m\u001b[0;34m)\u001b[0m\u001b[0;34m[\u001b[0m\u001b[0;34m:\u001b[0m\u001b[0;34m-\u001b[0m\u001b[0;36m1\u001b[0m\u001b[0;34m]\u001b[0m\u001b[0;34m)\u001b[0m\u001b[0;34m\u001b[0m\u001b[0;34m\u001b[0m\u001b[0m\n\u001b[0m\u001b[1;32m   1201\u001b[0m             \u001b[0mlogger\u001b[0m\u001b[0;34m.\u001b[0m\u001b[0mdebug\u001b[0m\u001b[0;34m(\u001b[0m\u001b[0;34m\"Answer received: {0}\"\u001b[0m\u001b[0;34m.\u001b[0m\u001b[0mformat\u001b[0m\u001b[0;34m(\u001b[0m\u001b[0manswer\u001b[0m\u001b[0;34m)\u001b[0m\u001b[0;34m)\u001b[0m\u001b[0;34m\u001b[0m\u001b[0;34m\u001b[0m\u001b[0m\n\u001b[1;32m   1202\u001b[0m             \u001b[0;32mif\u001b[0m \u001b[0manswer\u001b[0m\u001b[0;34m.\u001b[0m\u001b[0mstartswith\u001b[0m\u001b[0;34m(\u001b[0m\u001b[0mproto\u001b[0m\u001b[0;34m.\u001b[0m\u001b[0mRETURN_MESSAGE\u001b[0m\u001b[0;34m)\u001b[0m\u001b[0;34m:\u001b[0m\u001b[0;34m\u001b[0m\u001b[0;34m\u001b[0m\u001b[0m\n",
            "\u001b[0;32m/usr/lib/python3.7/socket.py\u001b[0m in \u001b[0;36mreadinto\u001b[0;34m(self, b)\u001b[0m\n\u001b[1;32m    587\u001b[0m         \u001b[0;32mwhile\u001b[0m \u001b[0;32mTrue\u001b[0m\u001b[0;34m:\u001b[0m\u001b[0;34m\u001b[0m\u001b[0;34m\u001b[0m\u001b[0m\n\u001b[1;32m    588\u001b[0m             \u001b[0;32mtry\u001b[0m\u001b[0;34m:\u001b[0m\u001b[0;34m\u001b[0m\u001b[0;34m\u001b[0m\u001b[0m\n\u001b[0;32m--> 589\u001b[0;31m                 \u001b[0;32mreturn\u001b[0m \u001b[0mself\u001b[0m\u001b[0;34m.\u001b[0m\u001b[0m_sock\u001b[0m\u001b[0;34m.\u001b[0m\u001b[0mrecv_into\u001b[0m\u001b[0;34m(\u001b[0m\u001b[0mb\u001b[0m\u001b[0;34m)\u001b[0m\u001b[0;34m\u001b[0m\u001b[0;34m\u001b[0m\u001b[0m\n\u001b[0m\u001b[1;32m    590\u001b[0m             \u001b[0;32mexcept\u001b[0m \u001b[0mtimeout\u001b[0m\u001b[0;34m:\u001b[0m\u001b[0;34m\u001b[0m\u001b[0;34m\u001b[0m\u001b[0m\n\u001b[1;32m    591\u001b[0m                 \u001b[0mself\u001b[0m\u001b[0;34m.\u001b[0m\u001b[0m_timeout_occurred\u001b[0m \u001b[0;34m=\u001b[0m \u001b[0;32mTrue\u001b[0m\u001b[0;34m\u001b[0m\u001b[0;34m\u001b[0m\u001b[0m\n",
            "\u001b[0;31mKeyboardInterrupt\u001b[0m: "
          ]
        }
      ]
    },
    {
      "cell_type": "code",
      "metadata": {
        "id": "R-OX6oMo235w"
      },
      "source": [
        ""
      ],
      "execution_count": 52,
      "outputs": []
    },
    {
      "cell_type": "code",
      "metadata": {
        "id": "y-dIDBpMDBql"
      },
      "source": [
        ""
      ],
      "execution_count": null,
      "outputs": []
    }
  ]
}